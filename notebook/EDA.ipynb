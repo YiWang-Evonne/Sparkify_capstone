{
 "cells": [
  {
   "cell_type": "code",
   "execution_count": 1,
   "metadata": {
    "ExecuteTime": {
     "end_time": "2021-04-11T01:23:30.201211Z",
     "start_time": "2021-04-11T01:23:26.916728Z"
    }
   },
   "outputs": [],
   "source": [
    "from pyspark.sql import SparkSession\n",
    "from pyspark.ml.feature import RegexTokenizer, CountVectorizer, \\\n",
    "    IDF, StringIndexer\n",
    "from pyspark.sql.functions import udf, row_number\n",
    "from pyspark.sql.types import IntegerType\n",
    "import re\n",
    "from pyspark.sql import SparkSession\n",
    "import pyspark.sql.functions as F\n",
    "from pyspark.sql.types import *\n",
    "from pyspark.sql import Window\n",
    "from pyspark.ml.feature import StringIndexer, VectorAssembler\n",
    "from pyspark.ml import Pipeline\n",
    "from pyspark.ml.tuning import CrossValidator\n",
    "from pyspark.ml.evaluation import RegressionEvaluator\n",
    "from pyspark.sql.types import IntegerType, ArrayType, FloatType, DoubleType, Row, DateType\n",
    "\n",
    "from sklearn.preprocessing import FunctionTransformer\n",
    "from pyspark.sql import SparkSession\n",
    "from pyspark.sql.functions import avg, col, concat, desc, explode, lit, min, max, split, udf\n",
    "from pyspark.sql.types import IntegerType\n",
    "\n",
    "from pyspark.sql.utils import AnalysisException\n",
    "from pyspark.ml import Pipeline\n",
    "from pyspark.ml.classification import LogisticRegression\n",
    "from pyspark.ml.evaluation import MulticlassClassificationEvaluator, BinaryClassificationEvaluator\n",
    "from pyspark.ml.feature import CountVectorizer, IDF, Normalizer, PCA, RegexTokenizer, StandardScaler, StopWordsRemover, StringIndexer, VectorAssembler\n",
    "from pyspark.ml.regression import LinearRegression\n",
    "from pyspark.ml.tuning import CrossValidator, ParamGridBuilder\n",
    "import matplotlib.pyplot as plt\n",
    "import pandas as pd\n",
    "\n",
    "import re"
   ]
  },
  {
   "cell_type": "code",
   "execution_count": 2,
   "metadata": {
    "ExecuteTime": {
     "end_time": "2021-04-11T01:23:36.346001Z",
     "start_time": "2021-04-11T01:23:30.258862Z"
    }
   },
   "outputs": [],
   "source": [
    "spark = SparkSession.builder \\\n",
    "    .master(\"local\") \\\n",
    "    .appName(\"data_analysis\") \\\n",
    "    .getOrCreate()"
   ]
  },
  {
   "cell_type": "markdown",
   "metadata": {},
   "source": [
    "# Data Cleaning\n",
    "\n",
    "I first clean the data a little bit for the data analysis."
   ]
  },
  {
   "cell_type": "code",
   "execution_count": 3,
   "metadata": {
    "ExecuteTime": {
     "end_time": "2021-04-11T01:23:50.517471Z",
     "start_time": "2021-04-11T01:23:36.406585Z"
    }
   },
   "outputs": [
    {
     "name": "stdout",
     "output_type": "stream",
     "text": [
      "root\n",
      " |-- artist: string (nullable = true)\n",
      " |-- auth: string (nullable = true)\n",
      " |-- firstName: string (nullable = true)\n",
      " |-- gender: string (nullable = true)\n",
      " |-- itemInSession: long (nullable = true)\n",
      " |-- lastName: string (nullable = true)\n",
      " |-- length: double (nullable = true)\n",
      " |-- level: string (nullable = true)\n",
      " |-- location: string (nullable = true)\n",
      " |-- method: string (nullable = true)\n",
      " |-- page: string (nullable = true)\n",
      " |-- registration: long (nullable = true)\n",
      " |-- sessionId: long (nullable = true)\n",
      " |-- song: string (nullable = true)\n",
      " |-- status: long (nullable = true)\n",
      " |-- ts: long (nullable = true)\n",
      " |-- userAgent: string (nullable = true)\n",
      " |-- userId: string (nullable = true)\n",
      "\n",
      "None\n",
      "pre clean data has 286500 row and post clean data has 278154 rows\n",
      "data range from 2018-09-30 to 2018-12-02 \n",
      "there are 225 total users in the data with size 278154\n"
     ]
    }
   ],
   "source": [
    "def data_preclean(input_df):\n",
    "    # cleanse stringtype fields from special characters\n",
    "    for field in input_df.schema.fields:\n",
    "        if field.dataType==StringType():\n",
    "            input_df = input_df.withColumn(field.name, F.regexp_replace(field.name, '[^a-zA-Z0-9\\,\\-]', ''))\n",
    "    # create new ts related columns\n",
    "    input_df = input_df.withColumn('interaction_time', \n",
    "                                   F.from_unixtime(col('ts').cast(LongType())/1000).cast(TimestampType()))\n",
    "    input_df = input_df.withColumn('month', F.month(col('interaction_time')))\n",
    "    input_df = input_df.withColumn('date', F.from_unixtime(col('ts')/1000).cast(DateType()))    \n",
    "    input_df = input_df.withColumn('userId', col('userId').cast(LongType()))\n",
    "    # remove user id null\n",
    "    input_df = input_df.filter(col('userId').isNotNull())\n",
    "    # filter out log out records\n",
    "    input_df = input_df.filter(~col('auth').isin(['LoggedOut','Logged Out','Guest']))\n",
    "    # replace location with extracting state from it\n",
    "    input_df = input_df.withColumn('state', split(col('location'),',').getItem(1))    \n",
    "    return input_df\n",
    "\n",
    "stack_overflow_data = '..\\sample_data\\mini_sparkify_event_data.json'\n",
    "df = spark.read.json(stack_overflow_data)\n",
    "df.persist()\n",
    "print(df.printSchema())\n",
    "preclean_size = df.count()\n",
    "\n",
    "preclean_transformer = FunctionTransformer(data_preclean, validate=False)\n",
    "df = preclean_transformer.transform(df)\n",
    "cleaned_size = df.count()\n",
    "print('pre clean data has {} row and post clean data has {} rows'.format(preclean_size, cleaned_size))\n",
    "min_date, max_date = df.select(F.min(\"date\"), F.max(\"date\")).first()\n",
    "print('data range from {} to {} '.format(min_date, max_date))\n",
    "df.head()\n",
    "\n",
    "### calculcate some key measures\n",
    "unique_ids = [i['userId'] for i in df.select('userId').distinct().collect()]\n",
    "print('there are {} total users in the data with size {}'.format(len(unique_ids), df.count()))"
   ]
  },
  {
   "cell_type": "code",
   "execution_count": 4,
   "metadata": {
    "ExecuteTime": {
     "end_time": "2021-04-11T01:25:15.707758Z",
     "start_time": "2021-04-11T01:23:55.619656Z"
    }
   },
   "outputs": [
    {
     "name": "stdout",
     "output_type": "stream",
     "text": [
      "278154\n",
      "278154\n",
      "278154\n"
     ]
    }
   ],
   "source": [
    "def has_column(df, col):\n",
    "    try:\n",
    "        df[col]\n",
    "        return True\n",
    "    except AnalysisException:\n",
    "        return False\n",
    "    \n",
    "def target_labelling(input_df):\n",
    "    window = Window.partitionBy(input_df['userId']).orderBy(input_df['ts'].desc())\n",
    "    label_df =\\\n",
    "        input_df.select('userId', 'page', 'auth',F.row_number().over(window).alias('rank')) \\\n",
    "            .filter(col('rank') <= 1)\n",
    "    label_df = label_df.withColumn('label',\n",
    "                                   F.when((col('page').isin(['CancellationConfirmation','Cancel']))\n",
    "                                        |(col('auth')=='Cancelled'),1).otherwise(0))\n",
    "    label_df = label_df.select('userId','label')\n",
    "    if has_column(input_df, 'label'):\n",
    "        input_df = input_df.drop('label')\n",
    "    input_df = input_df.join(label_df, on='userId',how='left')\n",
    "    return input_df\n",
    "label_transformer = FunctionTransformer(target_labelling, validate=False)\n",
    "\n",
    "\n",
    "print(df.count())\n",
    "df = label_transformer.transform(df)\n",
    "df.head()\n",
    "print(df.count())\n",
    "\n",
    "\n",
    "def moving_window_features(input_df):\n",
    "    input_df = input_df.withColumn('time_since_register',\n",
    "                        ((col('ts')-col('registration'))/86400000).cast(IntegerType()))\n",
    "    sessionStarts = input_df.orderBy(['userID','sessionId','ts'],ascending=True).\\\n",
    "                        groupby(['userID','sessionId']).\\\n",
    "                        agg(F.first('ts').alias('sessionStart'))\n",
    "    sessionStarts.orderBy(['userID','sessionStart'], ascending=True)\n",
    "    windowval = (Window.partitionBy('userID').orderBy('sessionStart')\n",
    "             .rangeBetween(Window.unboundedPreceding, 0))\n",
    "    sessionStarts = sessionStarts.withColumn('session_count',F.count('sessionId').over(windowval))\n",
    "    input_df = input_df.join(sessionStarts,on=['userID','sessionId'])\n",
    "    return input_df\n",
    "moving_window_features_transformer = FunctionTransformer(moving_window_features, validate=False)\n",
    "df = moving_window_features_transformer.transform(df)\n",
    "df.head()\n",
    "print(df.count())"
   ]
  },
  {
   "cell_type": "code",
   "execution_count": 123,
   "metadata": {
    "ExecuteTime": {
     "end_time": "2021-04-10T02:26:39.285866Z",
     "start_time": "2021-04-10T02:26:09.491298Z"
    }
   },
   "outputs": [],
   "source": [
    "## calculation for viz\n",
    "\n",
    "window = Window.partitionBy(df['userId']).orderBy(df['ts'].desc())\n",
    "user_final_status =\\\n",
    "    df.select('userId', 'page', 'auth','date','ts','label', 'state', 'level', 'method', F.row_number().over(window).alias('rank')) \\\n",
    "        .filter(col('rank') <= 1) \\\n",
    "        .toPandas()\n",
    "\n",
    "window = Window.partitionBy(df['userId']).orderBy(df['ts'])\n",
    "user_first_status =\\\n",
    "    df.select('userId', 'page', 'auth','date','ts','label', 'state', 'level', 'method',  F.row_number().over(window).alias('rank')) \\\n",
    "        .filter(col('rank') <= 1) \\\n",
    "        .toPandas()\n",
    "\n",
    "user_status_change = pd.concat([user_first_status, user_final_status])\n",
    "user_status_change = user_status_change.sort_values(['userId','ts'])\n",
    "\n",
    "location_activities = df.groupBy('state').count().orderBy('count', ascending=False).toPandas()\n",
    "level_count_activities = df.groupBy('level').count().orderBy('count', ascending=False).toPandas()\n",
    "method_count_activities = df.groupBy('method').count().orderBy('count', ascending=False).toPandas()\n",
    "\n",
    "window = Window.partitionBy(df['userId']).orderBy(df['ts'].desc())\n",
    "user_final_status_check =\\\n",
    "    df.select('userId', 'page', 'auth','date','ts','label',  'state', 'level', 'method', F.row_number().over(window).alias('rank')) \\\n",
    "        .filter(col('rank') <= 1) \\\n",
    "        .toPandas()\n",
    "\n",
    "ts_from_register_df = df.filter(col('page').isin(['CancellationConfirmation','Cancel'])).select('time_since_register').toPandas()"
   ]
  },
  {
   "cell_type": "markdown",
   "metadata": {},
   "source": [
    "# Data Analysis\n",
    "\n",
    "We first example the user status to find out who has left. As shown below, it seems we just need to flag those who visit cancel pages."
   ]
  },
  {
   "cell_type": "code",
   "execution_count": 14,
   "metadata": {
    "ExecuteTime": {
     "end_time": "2021-04-10T01:37:05.862079Z",
     "start_time": "2021-04-10T01:37:02.411017Z"
    }
   },
   "outputs": [
    {
     "data": {
      "text/plain": [
       "<matplotlib.axes._subplots.AxesSubplot at 0x250adc0a7f0>"
      ]
     },
     "execution_count": 14,
     "metadata": {},
     "output_type": "execute_result"
    },
    {
     "data": {
      "image/png": "[encoded data removed]",
      "text/plain": [
       "<Figure size 1152x432 with 1 Axes>"
      ]
     },
     "metadata": {},
     "output_type": "display_data"
    }
   ],
   "source": [
    "fig, ax = plt.subplots(figsize=(16,6))\n",
    "location_activities.set_index('page').plot(ax=ax,kind='bar')"
   ]
  },
  {
   "cell_type": "markdown",
   "metadata": {},
   "source": [
    "then we could have a look on the user attributions such as location, etc."
   ]
  },
  {
   "cell_type": "code",
   "execution_count": 101,
   "metadata": {
    "ExecuteTime": {
     "end_time": "2021-04-10T02:16:51.614375Z",
     "start_time": "2021-04-10T02:16:50.706644Z"
    }
   },
   "outputs": [
    {
     "name": "stderr",
     "output_type": "stream",
     "text": [
      "C:\\Users\\Muxi\\Anaconda3\\lib\\site-packages\\pandas\\plotting\\_tools.py:308: MatplotlibDeprecationWarning: \n",
      "The rowNum attribute was deprecated in Matplotlib 3.2 and will be removed two minor releases later. Use ax.get_subplotspec().rowspan.start instead.\n",
      "  layout[ax.rowNum, ax.colNum] = ax.get_visible()\n",
      "C:\\Users\\Muxi\\Anaconda3\\lib\\site-packages\\pandas\\plotting\\_tools.py:308: MatplotlibDeprecationWarning: \n",
      "The colNum attribute was deprecated in Matplotlib 3.2 and will be removed two minor releases later. Use ax.get_subplotspec().colspan.start instead.\n",
      "  layout[ax.rowNum, ax.colNum] = ax.get_visible()\n",
      "C:\\Users\\Muxi\\Anaconda3\\lib\\site-packages\\pandas\\plotting\\_tools.py:314: MatplotlibDeprecationWarning: \n",
      "The rowNum attribute was deprecated in Matplotlib 3.2 and will be removed two minor releases later. Use ax.get_subplotspec().rowspan.start instead.\n",
      "  if not layout[ax.rowNum + 1, ax.colNum]:\n",
      "C:\\Users\\Muxi\\Anaconda3\\lib\\site-packages\\pandas\\plotting\\_tools.py:314: MatplotlibDeprecationWarning: \n",
      "The colNum attribute was deprecated in Matplotlib 3.2 and will be removed two minor releases later. Use ax.get_subplotspec().colspan.start instead.\n",
      "  if not layout[ax.rowNum + 1, ax.colNum]:\n"
     ]
    },
    {
     "data": {
      "text/plain": [
       "<matplotlib.axes._subplots.AxesSubplot at 0x250aea8acf8>"
      ]
     },
     "execution_count": 101,
     "metadata": {},
     "output_type": "execute_result"
    },
    {
     "data": {
      "image/png": "[encoded data removed]",
      "text/plain": [
       "<Figure size 1152x864 with 3 Axes>"
      ]
     },
     "metadata": {},
     "output_type": "display_data"
    }
   ],
   "source": [
    "# we first example the status of the users. \n",
    "fig, ax = plt.subplots(2,2, figsize=(16,12))\n",
    "\n",
    "ax = plt.subplot(2, 1, 1)\n",
    "# df = df.withColumn('state', split(col('location'),',').getItem(1))    \n",
    "location = user_final_status['state'].value_counts()\n",
    "location.plot(ax=ax,kind='bar')\n",
    "    \n",
    "ax = plt.subplot(2, 2, 3)\n",
    "level_count = user_final_status['level'].value_counts()\n",
    "# level_count = df.groupBy('level').count().orderBy('count', ascending=False).toPandas()\n",
    "level_count.plot( ax=ax,kind='bar')\n",
    "    \n",
    "ax = plt.subplot(2, 2, 4)\n",
    "method_count = user_final_status['method'].value_counts()\n",
    "method_count.plot( ax=ax,kind='bar')\n",
    "# method_count = df.groupBy('method').count().orderBy('count', ascending=False).toPandas()\n",
    "# method_count.set_index('method').plot(ax=ax, kind='bar')\n"
   ]
  },
  {
   "cell_type": "code",
   "execution_count": 106,
   "metadata": {
    "ExecuteTime": {
     "end_time": "2021-04-10T02:18:20.504580Z",
     "start_time": "2021-04-10T02:18:19.450333Z"
    }
   },
   "outputs": [
    {
     "name": "stderr",
     "output_type": "stream",
     "text": [
      "C:\\Users\\Muxi\\Anaconda3\\lib\\site-packages\\pandas\\plotting\\_tools.py:308: MatplotlibDeprecationWarning: \n",
      "The rowNum attribute was deprecated in Matplotlib 3.2 and will be removed two minor releases later. Use ax.get_subplotspec().rowspan.start instead.\n",
      "  layout[ax.rowNum, ax.colNum] = ax.get_visible()\n",
      "C:\\Users\\Muxi\\Anaconda3\\lib\\site-packages\\pandas\\plotting\\_tools.py:308: MatplotlibDeprecationWarning: \n",
      "The colNum attribute was deprecated in Matplotlib 3.2 and will be removed two minor releases later. Use ax.get_subplotspec().colspan.start instead.\n",
      "  layout[ax.rowNum, ax.colNum] = ax.get_visible()\n",
      "C:\\Users\\Muxi\\Anaconda3\\lib\\site-packages\\pandas\\plotting\\_tools.py:314: MatplotlibDeprecationWarning: \n",
      "The rowNum attribute was deprecated in Matplotlib 3.2 and will be removed two minor releases later. Use ax.get_subplotspec().rowspan.start instead.\n",
      "  if not layout[ax.rowNum + 1, ax.colNum]:\n",
      "C:\\Users\\Muxi\\Anaconda3\\lib\\site-packages\\pandas\\plotting\\_tools.py:314: MatplotlibDeprecationWarning: \n",
      "The colNum attribute was deprecated in Matplotlib 3.2 and will be removed two minor releases later. Use ax.get_subplotspec().colspan.start instead.\n",
      "  if not layout[ax.rowNum + 1, ax.colNum]:\n"
     ]
    },
    {
     "data": {
      "text/plain": [
       "<matplotlib.axes._subplots.AxesSubplot at 0x250adbfa978>"
      ]
     },
     "execution_count": 106,
     "metadata": {},
     "output_type": "execute_result"
    },
    {
     "data": {
      "image/png": "[encoded data removed]",
      "text/plain": [
       "<Figure size 1152x864 with 3 Axes>"
      ]
     },
     "metadata": {},
     "output_type": "display_data"
    }
   ],
   "source": [
    "# we first example the status of the users. \n",
    "fig, ax = plt.subplots(2,2, figsize=(16,12))\n",
    "\n",
    "ax = plt.subplot(2, 1, 1)\n",
    "location_activities.set_index('state').plot(ax=ax,kind='bar')\n",
    "    \n",
    "ax = plt.subplot(2, 2, 3)\n",
    "level_count_activities.set_index('level').plot( ax=ax,kind='bar')\n",
    "    \n",
    "ax = plt.subplot(2, 2, 4)\n",
    "method_count_activities.set_index('method').plot(ax=ax, kind='bar')\n"
   ]
  },
  {
   "cell_type": "markdown",
   "metadata": {},
   "source": [
    "it looks those users just submit cancel in the 'cancel' page and then nivagate to 'Cancel Confirmation' page."
   ]
  },
  {
   "cell_type": "code",
   "execution_count": 108,
   "metadata": {
    "ExecuteTime": {
     "end_time": "2021-04-10T02:19:42.486324Z",
     "start_time": "2021-04-10T02:19:42.475311Z"
    }
   },
   "outputs": [
    {
     "data": {
      "text/html": [
       "<div>\n",
       "<style scoped>\n",
       "    .dataframe tbody tr th:only-of-type {\n",
       "        vertical-align: middle;\n",
       "    }\n",
       "\n",
       "    .dataframe tbody tr th {\n",
       "        vertical-align: top;\n",
       "    }\n",
       "\n",
       "    .dataframe thead th {\n",
       "        text-align: right;\n",
       "    }\n",
       "</style>\n",
       "<table border=\"1\" class=\"dataframe\">\n",
       "  <thead>\n",
       "    <tr style=\"text-align: right;\">\n",
       "      <th></th>\n",
       "      <th>userId</th>\n",
       "      <th>page</th>\n",
       "      <th>auth</th>\n",
       "      <th>date</th>\n",
       "      <th>ts</th>\n",
       "      <th>rank</th>\n",
       "    </tr>\n",
       "  </thead>\n",
       "  <tbody>\n",
       "    <tr>\n",
       "      <th>131</th>\n",
       "      <td>2</td>\n",
       "      <td>NextSong</td>\n",
       "      <td>LoggedIn</td>\n",
       "      <td>2018-10-08</td>\n",
       "      <td>1538974195000</td>\n",
       "      <td>1</td>\n",
       "    </tr>\n",
       "    <tr>\n",
       "      <th>131</th>\n",
       "      <td>2</td>\n",
       "      <td>AddFriend</td>\n",
       "      <td>LoggedIn</td>\n",
       "      <td>2018-11-21</td>\n",
       "      <td>1542839404000</td>\n",
       "      <td>1</td>\n",
       "    </tr>\n",
       "    <tr>\n",
       "      <th>106</th>\n",
       "      <td>3</td>\n",
       "      <td>NextSong</td>\n",
       "      <td>LoggedIn</td>\n",
       "      <td>2018-10-02</td>\n",
       "      <td>1538532534000</td>\n",
       "      <td>1</td>\n",
       "    </tr>\n",
       "    <tr>\n",
       "      <th>106</th>\n",
       "      <td>3</td>\n",
       "      <td>CancellationConfirmation</td>\n",
       "      <td>Cancelled</td>\n",
       "      <td>2018-10-30</td>\n",
       "      <td>1540875543000</td>\n",
       "      <td>1</td>\n",
       "    </tr>\n",
       "    <tr>\n",
       "      <th>144</th>\n",
       "      <td>4</td>\n",
       "      <td>NextSong</td>\n",
       "      <td>LoggedIn</td>\n",
       "      <td>2018-09-30</td>\n",
       "      <td>1538356650000</td>\n",
       "      <td>1</td>\n",
       "    </tr>\n",
       "  </tbody>\n",
       "</table>\n",
       "</div>"
      ],
      "text/plain": [
       "     userId                      page       auth        date             ts  \\\n",
       "131       2                  NextSong   LoggedIn  2018-10-08  1538974195000   \n",
       "131       2                 AddFriend   LoggedIn  2018-11-21  1542839404000   \n",
       "106       3                  NextSong   LoggedIn  2018-10-02  1538532534000   \n",
       "106       3  CancellationConfirmation  Cancelled  2018-10-30  1540875543000   \n",
       "144       4                  NextSong   LoggedIn  2018-09-30  1538356650000   \n",
       "\n",
       "     rank  \n",
       "131     1  \n",
       "131     1  \n",
       "106     1  \n",
       "106     1  \n",
       "144     1  "
      ]
     },
     "execution_count": 108,
     "metadata": {},
     "output_type": "execute_result"
    }
   ],
   "source": [
    "user_status_change.head()"
   ]
  },
  {
   "cell_type": "code",
   "execution_count": 109,
   "metadata": {
    "ExecuteTime": {
     "end_time": "2021-04-10T02:19:44.545716Z",
     "start_time": "2021-04-10T02:19:44.530704Z"
    }
   },
   "outputs": [
    {
     "data": {
      "text/html": [
       "<div>\n",
       "<style scoped>\n",
       "    .dataframe tbody tr th:only-of-type {\n",
       "        vertical-align: middle;\n",
       "    }\n",
       "\n",
       "    .dataframe tbody tr th {\n",
       "        vertical-align: top;\n",
       "    }\n",
       "\n",
       "    .dataframe thead th {\n",
       "        text-align: right;\n",
       "    }\n",
       "</style>\n",
       "<table border=\"1\" class=\"dataframe\">\n",
       "  <thead>\n",
       "    <tr style=\"text-align: right;\">\n",
       "      <th></th>\n",
       "      <th>userId</th>\n",
       "      <th>page</th>\n",
       "      <th>auth</th>\n",
       "      <th>date</th>\n",
       "      <th>ts</th>\n",
       "      <th>rank</th>\n",
       "    </tr>\n",
       "  </thead>\n",
       "  <tbody>\n",
       "    <tr>\n",
       "      <th>106</th>\n",
       "      <td>3</td>\n",
       "      <td>NextSong</td>\n",
       "      <td>LoggedIn</td>\n",
       "      <td>2018-10-02</td>\n",
       "      <td>1538532534000</td>\n",
       "      <td>1</td>\n",
       "    </tr>\n",
       "    <tr>\n",
       "      <th>106</th>\n",
       "      <td>3</td>\n",
       "      <td>CancellationConfirmation</td>\n",
       "      <td>Cancelled</td>\n",
       "      <td>2018-10-30</td>\n",
       "      <td>1540875543000</td>\n",
       "      <td>1</td>\n",
       "    </tr>\n",
       "    <tr>\n",
       "      <th>113</th>\n",
       "      <td>12</td>\n",
       "      <td>Home</td>\n",
       "      <td>LoggedIn</td>\n",
       "      <td>2018-10-02</td>\n",
       "      <td>1538533887000</td>\n",
       "      <td>1</td>\n",
       "    </tr>\n",
       "    <tr>\n",
       "      <th>113</th>\n",
       "      <td>12</td>\n",
       "      <td>CancellationConfirmation</td>\n",
       "      <td>Cancelled</td>\n",
       "      <td>2018-10-22</td>\n",
       "      <td>1540193374000</td>\n",
       "      <td>1</td>\n",
       "    </tr>\n",
       "    <tr>\n",
       "      <th>59</th>\n",
       "      <td>17</td>\n",
       "      <td>Home</td>\n",
       "      <td>LoggedIn</td>\n",
       "      <td>2018-10-03</td>\n",
       "      <td>1538543419000</td>\n",
       "      <td>1</td>\n",
       "    </tr>\n",
       "  </tbody>\n",
       "</table>\n",
       "</div>"
      ],
      "text/plain": [
       "     userId                      page       auth        date             ts  \\\n",
       "106       3                  NextSong   LoggedIn  2018-10-02  1538532534000   \n",
       "106       3  CancellationConfirmation  Cancelled  2018-10-30  1540875543000   \n",
       "113      12                      Home   LoggedIn  2018-10-02  1538533887000   \n",
       "113      12  CancellationConfirmation  Cancelled  2018-10-22  1540193374000   \n",
       "59       17                      Home   LoggedIn  2018-10-03  1538543419000   \n",
       "\n",
       "     rank  \n",
       "106     1  \n",
       "106     1  \n",
       "113     1  \n",
       "113     1  \n",
       "59      1  "
      ]
     },
     "execution_count": 109,
     "metadata": {},
     "output_type": "execute_result"
    }
   ],
   "source": [
    "cancelled_ids = user_status_change.loc[user_status_change['page'].isin(['CancellationConfirmation','Cancel']),\n",
    "                                       'userId'].unique()\n",
    "cancelled_user_log = user_status_change.loc[user_status_change['userId'].isin(cancelled_ids),:]\n",
    "cancelled_user_log.head()"
   ]
  },
  {
   "cell_type": "code",
   "execution_count": 112,
   "metadata": {
    "ExecuteTime": {
     "end_time": "2021-04-10T02:21:19.612344Z",
     "start_time": "2021-04-10T02:21:19.604344Z"
    }
   },
   "outputs": [
    {
     "name": "stdout",
     "output_type": "stream",
     "text": [
      "0.2311111111111111 0.2311111111111111\n"
     ]
    }
   ],
   "source": [
    "\n",
    "user_final_status['label'] = 0\n",
    "user_final_status.loc[user_final_status['page'].isin(['CancellationConfirmation','Cancel']), \n",
    "                      'label'] = 1\n",
    "print(user_final_status_check['label'].mean(),user_final_status['label'].mean())"
   ]
  },
  {
   "cell_type": "code",
   "execution_count": 94,
   "metadata": {
    "ExecuteTime": {
     "end_time": "2021-04-10T02:13:39.547228Z",
     "start_time": "2021-04-10T02:13:36.986347Z"
    }
   },
   "outputs": [
    {
     "name": "stdout",
     "output_type": "stream",
     "text": [
      "end to end chun rt 16.13\n"
     ]
    }
   ],
   "source": [
    "chun_rt = df.select('label').agg(F.mean(col('label'))).collect()[0]['avg(label)']\n",
    "print('end to end chun rt {:.2f}'.format(round(float(chun_rt*100), 2)))"
   ]
  },
  {
   "cell_type": "code",
   "execution_count": 119,
   "metadata": {
    "ExecuteTime": {
     "end_time": "2021-04-10T02:24:46.336456Z",
     "start_time": "2021-04-10T02:24:45.674298Z"
    }
   },
   "outputs": [
    {
     "data": {
      "text/plain": [
       "<matplotlib.axes._subplots.AxesSubplot at 0x250adb0ecc0>"
      ]
     },
     "execution_count": 119,
     "metadata": {},
     "output_type": "execute_result"
    },
    {
     "data": {
      "image/png": "[encoded data removed]",
      "text/plain": [
       "<Figure size 1296x432 with 1 Axes>"
      ]
     },
     "metadata": {},
     "output_type": "display_data"
    }
   ],
   "source": [
    "# from pyspark.sql import functions as F\n",
    "location = user_final_status.groupby(['state'])['label'].mean()\n",
    "location.plot(figsize=(18,6), kind='bar')"
   ]
  },
  {
   "cell_type": "code",
   "execution_count": 124,
   "metadata": {
    "ExecuteTime": {
     "end_time": "2021-04-10T02:26:46.123837Z",
     "start_time": "2021-04-10T02:26:45.211631Z"
    }
   },
   "outputs": [
    {
     "name": "stderr",
     "output_type": "stream",
     "text": [
      "C:\\Users\\Muxi\\Anaconda3\\lib\\site-packages\\pandas\\plotting\\_tools.py:308: MatplotlibDeprecationWarning: \n",
      "The rowNum attribute was deprecated in Matplotlib 3.2 and will be removed two minor releases later. Use ax.get_subplotspec().rowspan.start instead.\n",
      "  layout[ax.rowNum, ax.colNum] = ax.get_visible()\n",
      "C:\\Users\\Muxi\\Anaconda3\\lib\\site-packages\\pandas\\plotting\\_tools.py:308: MatplotlibDeprecationWarning: \n",
      "The colNum attribute was deprecated in Matplotlib 3.2 and will be removed two minor releases later. Use ax.get_subplotspec().colspan.start instead.\n",
      "  layout[ax.rowNum, ax.colNum] = ax.get_visible()\n",
      "C:\\Users\\Muxi\\Anaconda3\\lib\\site-packages\\pandas\\plotting\\_tools.py:314: MatplotlibDeprecationWarning: \n",
      "The rowNum attribute was deprecated in Matplotlib 3.2 and will be removed two minor releases later. Use ax.get_subplotspec().rowspan.start instead.\n",
      "  if not layout[ax.rowNum + 1, ax.colNum]:\n",
      "C:\\Users\\Muxi\\Anaconda3\\lib\\site-packages\\pandas\\plotting\\_tools.py:314: MatplotlibDeprecationWarning: \n",
      "The colNum attribute was deprecated in Matplotlib 3.2 and will be removed two minor releases later. Use ax.get_subplotspec().colspan.start instead.\n",
      "  if not layout[ax.rowNum + 1, ax.colNum]:\n"
     ]
    },
    {
     "data": {
      "text/plain": [
       "<matplotlib.axes._subplots.AxesSubplot at 0x250b1170c88>"
      ]
     },
     "execution_count": 124,
     "metadata": {},
     "output_type": "execute_result"
    },
    {
     "data": {
      "image/png": "[encoded data removed]",
      "text/plain": [
       "<Figure size 1152x864 with 3 Axes>"
      ]
     },
     "metadata": {},
     "output_type": "display_data"
    }
   ],
   "source": [
    "# we first example the status of the users. \n",
    "fig, ax = plt.subplots(2,2, figsize=(16,12))\n",
    "\n",
    "ax = plt.subplot(2, 1, 1)\n",
    "# df = df.withColumn('state', split(col('location'),',').getItem(1))    \n",
    "location = user_final_status.groupby(['state'])['label'].mean()\n",
    "location.plot(ax=ax,kind='bar')\n",
    "\n",
    "ax = plt.subplot(2, 2, 3)\n",
    "level_count = user_final_status.groupby(['level'])['label'].mean()\n",
    "# level_count = df.groupBy('level').count().orderBy('count', ascending=False).toPandas()\n",
    "level_count.plot( ax=ax,kind='bar')\n",
    "\n",
    "ax = plt.subplot(2, 2, 4)\n",
    "method_count = user_final_status.groupby(['method'])['label'].mean()\n",
    "method_count.plot( ax=ax,kind='bar')"
   ]
  },
  {
   "cell_type": "code",
   "execution_count": 127,
   "metadata": {
    "ExecuteTime": {
     "end_time": "2021-04-10T02:28:24.265791Z",
     "start_time": "2021-04-10T02:27:17.579289Z"
    }
   },
   "outputs": [
    {
     "name": "stdout",
     "output_type": "stream",
     "text": [
      "278154\n"
     ]
    },
    {
     "data": {
      "text/plain": [
       "Row(userId=37, sessionId=504, artist=None, auth='LoggedIn', firstName='Jadyn', gender='M', itemInSession=0, lastName='Rose', length=None, level='free', location='Austin-RoundRock,TX', method='GET', page='Home', registration=1535268719000, song=None, status=200, ts=1539621183000, userAgent='Mozilla50WindowsNT61WOW64AppleWebKit53736KHTML,likeGeckoChrome3601985143Safari53736', interaction_time=datetime.datetime(2018, 10, 15, 12, 33, 3), month=10, date=datetime.date(2018, 10, 15), state='TX', label=0, time_since_register=50, sessionStart=1539621183000, session_count=2)"
      ]
     },
     "execution_count": 127,
     "metadata": {},
     "output_type": "execute_result"
    }
   ],
   "source": [
    "\n",
    "print(df.count())\n",
    "# df.head()"
   ]
  },
  {
   "cell_type": "code",
   "execution_count": 129,
   "metadata": {
    "ExecuteTime": {
     "end_time": "2021-04-10T02:28:58.547581Z",
     "start_time": "2021-04-10T02:28:52.683305Z"
    }
   },
   "outputs": [
    {
     "data": {
      "text/html": [
       "<div>\n",
       "<style scoped>\n",
       "    .dataframe tbody tr th:only-of-type {\n",
       "        vertical-align: middle;\n",
       "    }\n",
       "\n",
       "    .dataframe tbody tr th {\n",
       "        vertical-align: top;\n",
       "    }\n",
       "\n",
       "    .dataframe thead th {\n",
       "        text-align: right;\n",
       "    }\n",
       "</style>\n",
       "<table border=\"1\" class=\"dataframe\">\n",
       "  <thead>\n",
       "    <tr style=\"text-align: right;\">\n",
       "      <th></th>\n",
       "      <th>time_since_register</th>\n",
       "    </tr>\n",
       "  </thead>\n",
       "  <tbody>\n",
       "    <tr>\n",
       "      <th>0</th>\n",
       "      <td>55</td>\n",
       "    </tr>\n",
       "    <tr>\n",
       "      <th>1</th>\n",
       "      <td>55</td>\n",
       "    </tr>\n",
       "    <tr>\n",
       "      <th>2</th>\n",
       "      <td>9</td>\n",
       "    </tr>\n",
       "    <tr>\n",
       "      <th>3</th>\n",
       "      <td>9</td>\n",
       "    </tr>\n",
       "    <tr>\n",
       "      <th>4</th>\n",
       "      <td>31</td>\n",
       "    </tr>\n",
       "  </tbody>\n",
       "</table>\n",
       "</div>"
      ],
      "text/plain": [
       "   time_since_register\n",
       "0                   55\n",
       "1                   55\n",
       "2                    9\n",
       "3                    9\n",
       "4                   31"
      ]
     },
     "execution_count": 129,
     "metadata": {},
     "output_type": "execute_result"
    }
   ],
   "source": [
    "\n",
    "ts_from_register_df.hist(figsize=(12,6),bins=50)"
   ]
  },
  {
   "cell_type": "markdown",
   "metadata": {},
   "source": [
    "# Feature Engineering"
   ]
  },
  {
   "cell_type": "code",
   "execution_count": 7,
   "metadata": {
    "ExecuteTime": {
     "end_time": "2021-04-05T21:56:24.958556Z",
     "start_time": "2021-04-05T21:56:24.945990Z"
    }
   },
   "outputs": [],
   "source": [
    "# def data_preclean(input_df):\n",
    "#     # cleanse stringtype fields from special characters\n",
    "#     for field in input_df.schema.fields:\n",
    "#         if field.dataType==StringType():\n",
    "#             input_df = input_df.withColumn(field.name, regexp_replace(field.name, '[^a-zA-Z0-9\\,\\-]', ''))\n",
    "#     # create new ts related columns\n",
    "#     input_df = input_df.withColumn('interaction_time', from_unixtime(col('ts').cast(LongType())/1000).cast(TimestampType()))\n",
    "#     input_df = input_df.withColumn('month', month(col('interaction_time')))\n",
    "#     input_df = input_df.withColumn('date', from_unixtime(col('ts')/1000).cast(DateType()))\n",
    "    \n",
    "#     input_df = input_df.withColumn('userId', col('userId').cast(LongType()))\n",
    "#     # remove user id null\n",
    "#     input_df = input_df.filter(col('userId').isNotNull())\n",
    "#     # filter out log out records\n",
    "#     input_df = input_df.filter(~col('auth').isin(['LoggedOut','Logged Out','Guest']))\n",
    "#     # replace location with extracting state from it\n",
    "#     input_df = input_df.withColumn('state', split(col('location'),',').getItem(1))    \n",
    "#     return input_df\n",
    "\n",
    "\n",
    "def target_labelling(input_df):\n",
    "    label_df = input_df.withColumn('label',\n",
    "                                   when((col('page').isin(['Cancellation Confirmation','Cancel']))\n",
    "                                        |(col('auth')=='cancelled'),1).otherwise(0))\n",
    "    label_df = label_df.groupby('userID').agg(sum('label').alias('label')).\\\n",
    "                        withColumn('label', when(col('label')>=1,1).otherwise(0))\n",
    "    input_df = input_df.join(label_df, on='userID')\n",
    "    return input_df\n",
    "\n",
    "def moving_window_features(input_df):\n",
    "    input_df = input_df.withColumn('time_since_register',\n",
    "                        ((col('ts')-col('registration'))/86400000).cast(IntegerType()))\n",
    "    sessionStarts = input_df.orderBy(['userID','sessionId','ts'],ascending=True).\\\n",
    "                        groupby(['userID','sessionId']).\\\n",
    "                        agg(first('ts').alias('sessionStart'))\n",
    "    sessionStarts.orderBy(['userID','sessionStart'], ascending=True)\n",
    "    windowval = (Window.partitionBy('userID').orderBy('sessionStart')\n",
    "             .rangeBetween(Window.unboundedPreceding, 0))\n",
    "    sessionStarts = sessionStarts.withColumn('session_count',count('sessionId').over(windowval))\n",
    "    input_df = input_df.join(sessionStarts,on=['userID','sessionId'])\n",
    "    return input_df\n",
    "moving_window_features_transformer = FunctionTransformer(moving_window_features, validate=False)\n",
    "df = moving_window_features_transformer.transform(df)"
   ]
  },
  {
   "cell_type": "code",
   "execution_count": 8,
   "metadata": {
    "ExecuteTime": {
     "end_time": "2021-04-05T21:56:25.672088Z",
     "start_time": "2021-04-05T21:56:24.960548Z"
    }
   },
   "outputs": [],
   "source": [
    "# label_transformer = FunctionTransformer(target_labelling, validate=False)\n",
    "# df = label_transformer.transform(df)\n",
    "# df = df.fillna(0, subset=['length'])"
   ]
  },
  {
   "cell_type": "code",
   "execution_count": 134,
   "metadata": {
    "ExecuteTime": {
     "end_time": "2021-04-09T04:19:15.296716Z",
     "start_time": "2021-04-09T04:19:09.638231Z"
    }
   },
   "outputs": [
    {
     "name": "stdout",
     "output_type": "stream",
     "text": [
      "['userId', 'itemInSession', 'length', 'sessionId', 'status', 'month']\n"
     ]
    }
   ],
   "source": [
    "def generate_training_data(features_df):\n",
    "    \"\"\"\n",
    "    Transforms features with feature pipeline\n",
    "    :param features_df: Spark DataFrame of features\n",
    "    :return Spark Dataframe with label and assembled features\n",
    "    \"\"\"\n",
    "    num_cols = []\n",
    "    \n",
    "    for field in features_df.schema.fields :\n",
    "        if field.dataType!=StringType():\n",
    "            num_cols.append(field.name)\n",
    "\n",
    "#     num_cols.remove('label')\n",
    "#     num_cols.remove('interaction_time')\n",
    "    num_cols = [item for item in num_cols if item not in ['label','ts', 'interaction_time', \n",
    "                                                          'sessionStart' ,'registration', 'date']]\n",
    "    print(num_cols)\n",
    "    indexer_gender = StringIndexer(inputCol='gender', outputCol='gender_index').setHandleInvalid(\"keep\")\n",
    "    indexer_location = StringIndexer(inputCol='location', outputCol='location_index').setHandleInvalid(\"keep\")\n",
    "#     indexer_valid_level = StringIndexer(inputCol='valid_level', outputCol='valid_level_index')\n",
    "\n",
    "    assembler = VectorAssembler(inputCols=num_cols+['gender_index', 'location_index'], \n",
    "                                outputCol='features').setHandleInvalid(\"keep\")\n",
    "\n",
    "    process_pipeline = Pipeline(stages=[indexer_gender, indexer_location,  assembler])\n",
    "#     process_pipeline = build_pipeline(num_cols)\n",
    "    model_df = process_pipeline.fit(features_df).transform(features_df)\n",
    "#     return model_df.select(\"label\", \"features\")\n",
    "    return model_df\n",
    "\n",
    "model_df = generate_training_data(df)"
   ]
  },
  {
   "cell_type": "markdown",
   "metadata": {},
   "source": [
    "# Model Training"
   ]
  },
  {
   "cell_type": "code",
   "execution_count": 15,
   "metadata": {
    "ExecuteTime": {
     "end_time": "2021-04-05T23:31:15.887748Z",
     "start_time": "2021-04-05T22:18:54.474063Z"
    }
   },
   "outputs": [
    {
     "data": {
      "text/plain": [
       "[0.7353642130361494,\n",
       " 0.7751738854093617,\n",
       " 0.7335633920592196,\n",
       " 0.7643379912485221]"
      ]
     },
     "execution_count": 15,
     "metadata": {},
     "output_type": "execute_result"
    }
   ],
   "source": [
    "train, test = model_df.randomSplit([0.9, 0.1], seed=42)\n",
    "lr =  LogisticRegression(maxIter=10, regParam=0.0, elasticNetParam=0)\n",
    "\n",
    "pipeline = Pipeline(stages=[lr])\n",
    "\n",
    "paramsGrid = ParamGridBuilder()\\\n",
    "                .addGrid(lr.regParam,[0.0,0.1])\\\n",
    "                .addGrid(lr.maxIter,[10,50])\\\n",
    "                .build()\n",
    "\n",
    "crossval = CrossValidator(estimator=pipeline,\n",
    "                          estimatorParamMaps=paramsGrid,\n",
    "                          evaluator=BinaryClassificationEvaluator(),\n",
    "                          numFolds=3)\n",
    "\n",
    "cvModel = crossval.fit(train)\n",
    "cvModel.avgMetrics"
   ]
  },
  {
   "cell_type": "code",
   "execution_count": null,
   "metadata": {},
   "outputs": [],
   "source": [
    "from pyspark.ml.classification import RandomForestClassifier\n",
    "rf = RandomForestClassifier(labelCol=\"label\", featuresCol=\"features\", numTrees=100)\n",
    "pipeline = Pipeline(stages=[rf])\n",
    "\n",
    "paramsGrid = ParamGridBuilder()\\\n",
    "                .addGrid(rf.numTrees,[100,500])\\\n",
    "                .build()\n",
    "\n",
    "crossval = CrossValidator(estimator=pipeline,\n",
    "                          estimatorParamMaps=paramsGrid,\n",
    "                          evaluator=BinaryClassificationEvaluator(),\n",
    "                          numFolds=3)\n",
    "\n",
    "cvModel = crossval.fit(train)\n",
    "cvModel.avgMetrics"
   ]
  },
  {
   "cell_type": "code",
   "execution_count": null,
   "metadata": {},
   "outputs": [],
   "source": [
    "cvModel.predict()"
   ]
  },
  {
   "cell_type": "markdown",
   "metadata": {},
   "source": [
    "## Appendix"
   ]
  },
  {
   "cell_type": "code",
   "execution_count": 17,
   "metadata": {
    "ExecuteTime": {
     "end_time": "2021-04-05T13:21:59.883022Z",
     "start_time": "2021-04-05T13:21:15.288215Z"
    }
   },
   "outputs": [
    {
     "name": "stdout",
     "output_type": "stream",
     "text": [
      "+-------------+------+------+-----+-------------------+-------------+\n",
      "|itemInSession|length|status|month|time_since_register|session_count|\n",
      "+-------------+------+------+-----+-------------------+-------------+\n",
      "|            0|     0|     0|    0|                  0|            0|\n",
      "+-------------+------+------+-----+-------------------+-------------+\n",
      "\n"
     ]
    }
   ],
   "source": [
    "df2.select([count(when(isnan(c), c)).alias(c) for c in num_cols]).show()"
   ]
  },
  {
   "cell_type": "code",
   "execution_count": 19,
   "metadata": {
    "ExecuteTime": {
     "end_time": "2021-04-05T13:24:07.069059Z",
     "start_time": "2021-04-05T13:23:21.470814Z"
    }
   },
   "outputs": [
    {
     "data": {
      "text/plain": [
       "Row(userId=37, sessionId=504, artist=None, auth='LoggedIn', firstName='Jadyn', gender='M', itemInSession=0, lastName='Rose', length=None, level='free', location='TX', method='GET', page='Home', registration=1535268719000, song=None, status=200, ts=1539621183000, userAgent='Mozilla50WindowsNT61WOW64AppleWebKit53736KHTML,likeGeckoChrome3601985143Safari53736', interaction_time=datetime.datetime(2018, 10, 15, 12, 33, 3), month=10, date=datetime.date(2018, 10, 15), label=0, time_since_register=50, sessionStart=1539621183000, session_count=2, gender_index=1.0, location_index=2.0, features2=DenseVector([0.0, nan, 200.0, 10.0, 50.0, 2.0]))"
      ]
     },
     "execution_count": 19,
     "metadata": {},
     "output_type": "execute_result"
    }
   ],
   "source": [
    "num_cols = ['itemInSession',\n",
    " 'length',\n",
    " 'status',\n",
    " 'month',\n",
    " 'time_since_register',\n",
    " 'session_count']\n",
    "assembler = VectorAssembler(inputCols=num_cols, outputCol='features2').setHandleInvalid(\"keep\")\n",
    "df3 = assembler.transform(df2)\n",
    "df3.head()"
   ]
  },
  {
   "cell_type": "code",
   "execution_count": 58,
   "metadata": {
    "ExecuteTime": {
     "end_time": "2021-04-05T03:44:24.188057Z",
     "start_time": "2021-04-05T03:43:57.280070Z"
    }
   },
   "outputs": [
    {
     "name": "stdout",
     "output_type": "stream",
     "text": [
      "2\n"
     ]
    },
    {
     "data": {
      "text/plain": [
       "[Row(auth='LoggedIn', count=278102), Row(auth='Cancelled', count=52)]"
      ]
     },
     "execution_count": 58,
     "metadata": {},
     "output_type": "execute_result"
    }
   ],
   "source": [
    "count_df = df.groupBy('auth').count().orderBy('count', ascending=False)\n",
    "count_df.collect()\n",
    "print(count_df.count())\n",
    "count_df.head(5)"
   ]
  },
  {
   "cell_type": "code",
   "execution_count": 11,
   "metadata": {
    "ExecuteTime": {
     "end_time": "2021-04-05T02:48:36.684561Z",
     "start_time": "2021-04-05T02:48:32.264809Z"
    }
   },
   "outputs": [
    {
     "name": "stdout",
     "output_type": "stream",
     "text": [
      "3\n"
     ]
    },
    {
     "data": {
      "text/plain": [
       "[Row(gender='F', count=154578),\n",
       " Row(gender='M', count=123576),\n",
       " Row(gender=None, count=8346)]"
      ]
     },
     "execution_count": 11,
     "metadata": {},
     "output_type": "execute_result"
    }
   ],
   "source": [
    "count_df = df.groupBy('gender').count().orderBy('count', ascending=False)\n",
    "count_df.collect()\n",
    "print(count_df.count())\n",
    "count_df.head(5)"
   ]
  },
  {
   "cell_type": "code",
   "execution_count": 12,
   "metadata": {
    "ExecuteTime": {
     "end_time": "2021-04-05T02:49:03.617238Z",
     "start_time": "2021-04-05T02:48:59.393173Z"
    }
   },
   "outputs": [
    {
     "name": "stdout",
     "output_type": "stream",
     "text": [
      "2\n"
     ]
    },
    {
     "data": {
      "text/plain": [
       "[Row(level='paid', count=228162), Row(level='free', count=58338)]"
      ]
     },
     "execution_count": 12,
     "metadata": {},
     "output_type": "execute_result"
    }
   ],
   "source": [
    "count_df = df.groupBy('level').count().orderBy('count', ascending=False)\n",
    "count_df.collect()\n",
    "print(count_df.count())\n",
    "count_df.head(5)"
   ]
  },
  {
   "cell_type": "code",
   "execution_count": null,
   "metadata": {},
   "outputs": [],
   "source": []
  }
 ],
 "metadata": {
  "kernelspec": {
   "display_name": "Python (base)",
   "language": "python",
   "name": "myenv"
  },
  "language_info": {
   "codemirror_mode": {
    "name": "ipython",
    "version": 3
   },
   "file_extension": ".py",
   "mimetype": "text/x-python",
   "name": "python",
   "nbconvert_exporter": "python",
   "pygments_lexer": "ipython3",
   "version": "3.6.5"
  },
  "toc": {
   "base_numbering": 1,
   "nav_menu": {},
   "number_sections": true,
   "sideBar": true,
   "skip_h1_title": false,
   "title_cell": "Table of Contents",
   "title_sidebar": "Contents",
   "toc_cell": false,
   "toc_position": {},
   "toc_section_display": true,
   "toc_window_display": true
  },
  "varInspector": {
   "cols": {
    "lenName": 16,
    "lenType": 16,
    "lenVar": 40
   },
   "kernels_config": {
    "python": {
     "delete_cmd_postfix": "",
     "delete_cmd_prefix": "del ",
     "library": "var_list.py",
     "varRefreshCmd": "print(var_dic_list())"
    },
    "r": {
     "delete_cmd_postfix": ") ",
     "delete_cmd_prefix": "rm(",
     "library": "var_list.r",
     "varRefreshCmd": "cat(var_dic_list()) "
    }
   },
   "types_to_exclude": [
    "module",
    "function",
    "builtin_function_or_method",
    "instance",
    "_Feature"
   ],
   "window_display": false
  }
 },
 "nbformat": 4,
 "nbformat_minor": 2
}
