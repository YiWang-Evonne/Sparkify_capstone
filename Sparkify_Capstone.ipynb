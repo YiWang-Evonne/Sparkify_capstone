{
 "cells": [
  {
   "cell_type": "code",
   "execution_count": 1,
   "id": "planned-penguin",
   "metadata": {},
   "outputs": [
    {
     "data": {
      "application/vnd.jupyter.widget-view+json": {
       "model_id": "66162ec701e5481bb81e167fa53f5e1e",
       "version_major": 2,
       "version_minor": 0
      },
      "text/plain": [
       "VBox()"
      ]
     },
     "metadata": {},
     "output_type": "display_data"
    },
    {
     "name": "stdout",
     "output_type": "stream",
     "text": [
      "Starting Spark application\n"
     ]
    },
    {
     "data": {
      "text/html": [
       "<table>\n",
       "<tr><th>ID</th><th>YARN Application ID</th><th>Kind</th><th>State</th><th>Spark UI</th><th>Driver log</th><th>Current session?</th></tr><tr><td>1</td><td>application_1618349436462_0002</td><td>pyspark</td><td>idle</td><td><a target=\"_blank\" href=\"http://ip-172-31-51-8.us-west-2.compute.internal:20888/proxy/application_1618349436462_0002/\">Link</a></td><td><a target=\"_blank\" href=\"http://ip-172-31-62-127.us-west-2.compute.internal:8042/node/containerlogs/container_1618349436462_0002_01_000001/livy\">Link</a></td><td>✔</td></tr></table>"
      ],
      "text/plain": [
       "<IPython.core.display.HTML object>"
      ]
     },
     "metadata": {},
     "output_type": "display_data"
    },
    {
     "data": {
      "application/vnd.jupyter.widget-view+json": {
       "model_id": "",
       "version_major": 2,
       "version_minor": 0
      },
      "text/plain": [
       "FloatProgress(value=0.0, bar_style='info', description='Progress:', layout=Layout(height='25px', width='50%'),…"
      ]
     },
     "metadata": {},
     "output_type": "display_data"
    },
    {
     "name": "stdout",
     "output_type": "stream",
     "text": [
      "SparkSession available as 'spark'.\n"
     ]
    },
    {
     "data": {
      "application/vnd.jupyter.widget-view+json": {
       "model_id": "",
       "version_major": 2,
       "version_minor": 0
      },
      "text/plain": [
       "FloatProgress(value=0.0, bar_style='info', description='Progress:', layout=Layout(height='25px', width='50%'),…"
      ]
     },
     "metadata": {},
     "output_type": "display_data"
    }
   ],
   "source": [
    "from pyspark.sql import SparkSession\n",
    "from pyspark.ml.feature import RegexTokenizer, CountVectorizer, \\\n",
    "    IDF, StringIndexer\n",
    "from pyspark.sql.functions import udf\n",
    "from pyspark.sql.types import IntegerType\n",
    "import re\n",
    "import pyspark.sql.functions as F\n",
    "from pyspark.sql.types import *\n",
    "from pyspark.sql import Window\n",
    "from pyspark.ml.feature import StringIndexer, VectorAssembler\n",
    "from pyspark.ml import Pipeline\n",
    "from pyspark.ml.tuning import CrossValidator\n",
    "from pyspark.ml.evaluation import RegressionEvaluator\n",
    "from pyspark.sql.types import IntegerType, ArrayType, FloatType, DoubleType, Row, DateType\n",
    "from pyspark.sql.utils import AnalysisException\n",
    "from pyspark.sql import SparkSession\n",
    "from pyspark.sql.functions import avg, col, concat, desc, explode, lit, min, max, split, udf\n",
    "from pyspark.sql.types import IntegerType\n",
    "\n",
    "from pyspark.ml import Pipeline\n",
    "from pyspark.ml.classification import LogisticRegression\n",
    "from pyspark.ml.evaluation import MulticlassClassificationEvaluator, BinaryClassificationEvaluator\n",
    "from pyspark.ml.feature import CountVectorizer, IDF, Normalizer, PCA, RegexTokenizer, StandardScaler, StopWordsRemover, StringIndexer, VectorAssembler\n",
    "from pyspark.ml.regression import LinearRegression\n",
    "from pyspark.ml.tuning import CrossValidator, ParamGridBuilder"
   ]
  },
  {
   "cell_type": "code",
   "execution_count": 2,
   "id": "developed-circle",
   "metadata": {},
   "outputs": [
    {
     "data": {
      "application/vnd.jupyter.widget-view+json": {
       "model_id": "6c6137a2db2e4c188df48d9988f593cc",
       "version_major": 2,
       "version_minor": 0
      },
      "text/plain": [
       "VBox()"
      ]
     },
     "metadata": {},
     "output_type": "display_data"
    },
    {
     "data": {
      "application/vnd.jupyter.widget-view+json": {
       "model_id": "",
       "version_major": 2,
       "version_minor": 0
      },
      "text/plain": [
       "FloatProgress(value=0.0, bar_style='info', description='Progress:', layout=Layout(height='25px', width='50%'),…"
      ]
     },
     "metadata": {},
     "output_type": "display_data"
    },
    {
     "name": "stdout",
     "output_type": "stream",
     "text": [
      "Collecting pandas==0.25.1\n",
      "  Using cached pandas-0.25.1-cp36-cp36m-manylinux1_x86_64.whl (10.5 MB)\n",
      "Collecting python-dateutil>=2.6.1\n",
      "  Using cached python_dateutil-2.8.1-py2.py3-none-any.whl (227 kB)\n",
      "Requirement already satisfied: numpy>=1.13.3 in /usr/local/lib64/python3.6/site-packages (from pandas==0.25.1) (1.14.5)\n",
      "Requirement already satisfied: pytz>=2017.2 in /usr/local/lib/python3.6/site-packages (from pandas==0.25.1) (2019.3)\n",
      "Requirement already satisfied: six>=1.5 in /usr/local/lib/python3.6/site-packages (from python-dateutil>=2.6.1->pandas==0.25.1) (1.13.0)\n",
      "Installing collected packages: python-dateutil, pandas\n",
      "Successfully installed pandas-0.25.1 python-dateutil-2.8.1\n",
      "\n",
      "Collecting matplotlib==2.2.4\n",
      "  Using cached matplotlib-2.2.4-cp36-cp36m-manylinux1_x86_64.whl (12.8 MB)\n",
      "Requirement already satisfied: six>=1.10 in /usr/local/lib/python3.6/site-packages (from matplotlib==2.2.4) (1.13.0)\n",
      "Collecting pyparsing!=2.0.4,!=2.1.2,!=2.1.6,>=2.0.1\n",
      "  Using cached pyparsing-2.4.7-py2.py3-none-any.whl (67 kB)\n",
      "Requirement already satisfied: numpy>=1.7.1 in /usr/local/lib64/python3.6/site-packages (from matplotlib==2.2.4) (1.14.5)\n",
      "Requirement already satisfied: python-dateutil>=2.1 in /mnt/tmp/1618361694691-0/lib/python3.6/site-packages (from matplotlib==2.2.4) (2.8.1)\n",
      "Collecting kiwisolver>=1.0.1\n",
      "  Using cached kiwisolver-1.3.1-cp36-cp36m-manylinux1_x86_64.whl (1.1 MB)\n",
      "Requirement already satisfied: pytz in /usr/local/lib/python3.6/site-packages (from matplotlib==2.2.4) (2019.3)\n",
      "Collecting cycler>=0.10\n",
      "  Using cached cycler-0.10.0-py2.py3-none-any.whl (6.5 kB)\n",
      "Installing collected packages: pyparsing, kiwisolver, cycler, matplotlib\n",
      "Successfully installed cycler-0.10.0 kiwisolver-1.3.1 matplotlib-2.2.4 pyparsing-2.4.7\n",
      "\n",
      "Package                    Version\n",
      "-------------------------- -------\n",
      "beautifulsoup4             4.8.1\n",
      "boto                       2.49.0\n",
      "cycler                     0.10.0\n",
      "jmespath                   0.9.4\n",
      "kiwisolver                 1.3.1\n",
      "lxml                       4.4.2\n",
      "matplotlib                 2.2.4\n",
      "mysqlclient                1.4.6\n",
      "nltk                       3.4.5\n",
      "nose                       1.3.4\n",
      "numpy                      1.14.5\n",
      "pandas                     0.25.1\n",
      "pip                        21.0.1\n",
      "py-dateutil                2.2\n",
      "pyparsing                  2.4.7\n",
      "python-dateutil            2.8.1\n",
      "python36-sagemaker-pyspark 1.2.6\n",
      "pytz                       2019.3\n",
      "PyYAML                     3.11\n",
      "setuptools                 56.0.0\n",
      "six                        1.13.0\n",
      "soupsieve                  1.9.5\n",
      "wheel                      0.36.2\n",
      "windmill                   1.6"
     ]
    }
   ],
   "source": [
    "sc.install_pypi_package(\"pandas==0.25.1\") \n",
    "sc.install_pypi_package(\"matplotlib==2.2.4\") \n",
    "sc.list_packages()"
   ]
  },
  {
   "cell_type": "code",
   "execution_count": 3,
   "id": "compressed-saudi",
   "metadata": {},
   "outputs": [
    {
     "data": {
      "text/html": [
       "Current session configs: <tt>{'conf': {'spark.pyspark.python': 'python3', 'spark.pyspark.virtualenv.enabled': 'true', 'spark.pyspark.virtualenv.type': 'native', 'spark.pyspark.virtualenv.bin.path': '/usr/bin/virtualenv'}, 'kind': 'pyspark'}</tt><br>"
      ],
      "text/plain": [
       "<IPython.core.display.HTML object>"
      ]
     },
     "metadata": {},
     "output_type": "display_data"
    },
    {
     "data": {
      "text/html": [
       "<table>\n",
       "<tr><th>ID</th><th>YARN Application ID</th><th>Kind</th><th>State</th><th>Spark UI</th><th>Driver log</th><th>Current session?</th></tr><tr><td>1</td><td>application_1618349436462_0002</td><td>pyspark</td><td>idle</td><td><a target=\"_blank\" href=\"http://ip-172-31-51-8.us-west-2.compute.internal:20888/proxy/application_1618349436462_0002/\">Link</a></td><td><a target=\"_blank\" href=\"http://ip-172-31-62-127.us-west-2.compute.internal:8042/node/containerlogs/container_1618349436462_0002_01_000001/livy\">Link</a></td><td>✔</td></tr></table>"
      ],
      "text/plain": [
       "<IPython.core.display.HTML object>"
      ]
     },
     "metadata": {},
     "output_type": "display_data"
    }
   ],
   "source": [
    "%%info"
   ]
  },
  {
   "cell_type": "code",
   "execution_count": 4,
   "id": "studied-hostel",
   "metadata": {},
   "outputs": [],
   "source": [
    "%%local\n",
    "%matplotlib inline\n",
    "import matplotlib.pyplot as plt\n",
    "from sklearn.preprocessing import FunctionTransformer\n",
    "import re"
   ]
  },
  {
   "cell_type": "code",
   "execution_count": 5,
   "id": "statistical-census",
   "metadata": {},
   "outputs": [
    {
     "data": {
      "application/vnd.jupyter.widget-view+json": {
       "model_id": "3d52a6d2f1ce4017b65a63a02859eb13",
       "version_major": 2,
       "version_minor": 0
      },
      "text/plain": [
       "VBox()"
      ]
     },
     "metadata": {},
     "output_type": "display_data"
    },
    {
     "data": {
      "application/vnd.jupyter.widget-view+json": {
       "model_id": "",
       "version_major": 2,
       "version_minor": 0
      },
      "text/plain": [
       "FloatProgress(value=0.0, bar_style='info', description='Progress:', layout=Layout(height='25px', width='50%'),…"
      ]
     },
     "metadata": {},
     "output_type": "display_data"
    },
    {
     "name": "stdout",
     "output_type": "stream",
     "text": [
      "the data has  26259199  records\n",
      "Row(artist='Popol Vuh', auth='Logged In', firstName='Shlok', gender='M', itemInSession=278, lastName='Johnson', length=524.32934, level='paid', location='Dallas-Fort Worth-Arlington, TX', method='PUT', page='NextSong', registration=1533734541000, sessionId=22683, song='Ich mache einen Spiegel - Dream Part 4', status=200, ts=1538352001000, userAgent='\"Mozilla/5.0 (Windows NT 6.1; WOW64) AppleWebKit/537.36 (KHTML, like Gecko) Chrome/36.0.1985.143 Safari/537.36\"', userId='1749042')"
     ]
    }
   ],
   "source": [
    "# Starter code\n",
    "from pyspark.sql import SparkSession\n",
    "\n",
    "# Create spark session\n",
    "spark = SparkSession \\\n",
    "    .builder \\\n",
    "    .appName(\"Sparkify\") \\\n",
    "    .getOrCreate()\n",
    "\n",
    "# Read in full sparkify dataset\n",
    "event_data = \"s3n://udacity-dsnd/sparkify/sparkify_event_data.json\"\n",
    "df = spark.read.json(event_data)\n",
    "print('the data has ', df.count(), ' records')\n",
    "df.head()"
   ]
  },
  {
   "cell_type": "markdown",
   "id": "outer-contrast",
   "metadata": {},
   "source": [
    "# Intitial Data Cleaning"
   ]
  },
  {
   "cell_type": "code",
   "execution_count": 6,
   "id": "straight-amendment",
   "metadata": {},
   "outputs": [
    {
     "data": {
      "application/vnd.jupyter.widget-view+json": {
       "model_id": "d84a92a244bd4755b48fb96aecc9644c",
       "version_major": 2,
       "version_minor": 0
      },
      "text/plain": [
       "VBox()"
      ]
     },
     "metadata": {},
     "output_type": "display_data"
    },
    {
     "data": {
      "application/vnd.jupyter.widget-view+json": {
       "model_id": "",
       "version_major": 2,
       "version_minor": 0
      },
      "text/plain": [
       "FloatProgress(value=0.0, bar_style='info', description='Progress:', layout=Layout(height='25px', width='50%'),…"
      ]
     },
     "metadata": {},
     "output_type": "display_data"
    },
    {
     "name": "stdout",
     "output_type": "stream",
     "text": [
      "root\n",
      " |-- artist: string (nullable = true)\n",
      " |-- auth: string (nullable = true)\n",
      " |-- firstName: string (nullable = true)\n",
      " |-- gender: string (nullable = true)\n",
      " |-- itemInSession: long (nullable = true)\n",
      " |-- lastName: string (nullable = true)\n",
      " |-- length: double (nullable = true)\n",
      " |-- level: string (nullable = true)\n",
      " |-- location: string (nullable = true)\n",
      " |-- method: string (nullable = true)\n",
      " |-- page: string (nullable = true)\n",
      " |-- registration: long (nullable = true)\n",
      " |-- sessionId: long (nullable = true)\n",
      " |-- song: string (nullable = true)\n",
      " |-- status: long (nullable = true)\n",
      " |-- ts: long (nullable = true)\n",
      " |-- userAgent: string (nullable = true)\n",
      " |-- userId: string (nullable = true)\n",
      "\n",
      "None\n",
      "pre clean data has 26259199 row and post clean data has 25480720 rows\n",
      "data range from 2018-10-01 to 2018-12-01 \n",
      "there are 22277 total users in the data with size 25480720"
     ]
    }
   ],
   "source": [
    "def data_preclean(input_df):\n",
    "    \"\"\"\n",
    "    initial data cleaning such as convert variable format.\n",
    "    \"\"\"\n",
    "    # cleanse stringtype fields from special characters\n",
    "    for field in input_df.schema.fields:\n",
    "        if field.dataType==StringType():\n",
    "            input_df = input_df.withColumn(field.name, F.regexp_replace(field.name, '[^a-zA-Z0-9\\,\\-]', ''))\n",
    "    # create new ts related columns\n",
    "    input_df = input_df.withColumn('interaction_time', \n",
    "                                   F.from_unixtime(col('ts').cast(LongType())/1000).cast(TimestampType()))\n",
    "    input_df = input_df.withColumn('month', F.month(col('interaction_time')))\n",
    "    input_df = input_df.withColumn('date', F.from_unixtime(col('ts')/1000).cast(DateType()))    \n",
    "    input_df = input_df.withColumn('userId', col('userId').cast(LongType()))\n",
    "    # remove user id null\n",
    "    input_df = input_df.filter(col('userId').isNotNull())\n",
    "    # filter out log out records\n",
    "    input_df = input_df.filter(~col('auth').isin(['LoggedOut','Logged Out','Guest']))\n",
    "    # replace location with extracting state from it\n",
    "    input_df = input_df.withColumn('state', split(col('location'),',').getItem(1))    \n",
    "    return input_df\n",
    "\n",
    "# stack_overflow_data = '..\\sample_data\\mini_sparkify_event_data.json'\n",
    "# df = spark.read.json(stack_overflow_data)\n",
    "df.persist()\n",
    "print(df.printSchema())\n",
    "preclean_size = df.count()\n",
    "df =data_preclean(df)\n",
    "# df = preclean_transformer.transform(df)\n",
    "cleaned_size = df.count()\n",
    "print('pre clean data has {} row and post clean data has {} rows'.format(preclean_size, cleaned_size))\n",
    "min_date, max_date = df.select(F.min(\"date\"), F.max(\"date\")).first()\n",
    "print('data range from {} to {} '.format(min_date, max_date))\n",
    "df.head()\n",
    "\n",
    "### calculcate some key measures\n",
    "unique_ids = [i['userId'] for i in df.select('userId').distinct().collect()]\n",
    "print('there are {} total users in the data with size {}'.format(len(unique_ids), df.count()))"
   ]
  },
  {
   "cell_type": "code",
   "execution_count": 7,
   "id": "agreed-transport",
   "metadata": {},
   "outputs": [
    {
     "data": {
      "application/vnd.jupyter.widget-view+json": {
       "model_id": "7baee46cb87a4e9c9fcdd2f3e75f567c",
       "version_major": 2,
       "version_minor": 0
      },
      "text/plain": [
       "VBox()"
      ]
     },
     "metadata": {},
     "output_type": "display_data"
    },
    {
     "data": {
      "application/vnd.jupyter.widget-view+json": {
       "model_id": "",
       "version_major": 2,
       "version_minor": 0
      },
      "text/plain": [
       "FloatProgress(value=0.0, bar_style='info', description='Progress:', layout=Layout(height='25px', width='50%'),…"
      ]
     },
     "metadata": {},
     "output_type": "display_data"
    },
    {
     "name": "stdout",
     "output_type": "stream",
     "text": [
      "quality check: pre labelling data size 25480720\n",
      "quality check: post labelling data size 25480720\n",
      "quality check: post moving window data size 25480720"
     ]
    }
   ],
   "source": [
    "def has_column(df, col):\n",
    "    \"\"\"\n",
    "    util function that check whether a column is in the data.\n",
    "    \"\"\"\n",
    "    try:\n",
    "        df[col]\n",
    "        return True\n",
    "    except AnalysisException:\n",
    "        return False\n",
    "    \n",
    "def target_labelling(input_df):\n",
    "    \"\"\"\n",
    "    create the target column\n",
    "    \"\"\"\n",
    "    window = Window.partitionBy(input_df['userId']).orderBy(input_df['ts'].desc())\n",
    "    label_df =\\\n",
    "        input_df.select('userId', 'page', 'auth',F.row_number().over(window).alias('rank')) \\\n",
    "            .filter(col('rank') <= 1)\n",
    "    label_df = label_df.withColumn('label',\n",
    "                                   F.when((col('page').isin(['CancellationConfirmation','Cancel']))\n",
    "                                        |(col('auth')=='Cancelled'),1).otherwise(0))\n",
    "    label_df = label_df.select('userId','label')\n",
    "    if has_column(input_df, 'label'):\n",
    "        input_df = input_df.drop('label')\n",
    "    input_df = input_df.join(label_df, on='userId',how='left')\n",
    "    return input_df\n",
    "df = target_labelling(df)\n",
    "\n",
    "\n",
    "print('quality check: pre labelling data size', df.count())\n",
    "df = target_labelling(df)\n",
    "df.head()\n",
    "print('quality check: post labelling data size', df.count())\n",
    "# print(df.count())\n",
    "\n",
    "\n",
    "def moving_window_features(input_df):\n",
    "    \"\"\"\n",
    "    create features that based on moving time windows.\n",
    "    \"\"\"\n",
    "    input_df = input_df.withColumn('time_since_register',\n",
    "                        ((col('ts')-col('registration'))/86400000).cast(IntegerType()))\n",
    "    sessionStarts = input_df.orderBy(['userID','sessionId','ts'],ascending=True).\\\n",
    "                        groupby(['userID','sessionId']).\\\n",
    "                        agg(F.first('ts').alias('sessionStart'))\n",
    "    sessionStarts.orderBy(['userID','sessionStart'], ascending=True)\n",
    "    windowval = (Window.partitionBy('userID').orderBy('sessionStart')\n",
    "             .rangeBetween(Window.unboundedPreceding, 0))\n",
    "    sessionStarts = sessionStarts.withColumn('session_count',F.count('sessionId').over(windowval))\n",
    "    input_df = input_df.join(sessionStarts,on=['userID','sessionId'])\n",
    "    return input_df\n",
    "\n",
    "df = moving_window_features(df)\n",
    "df.head()\n",
    "print('quality check: post moving window data size', df.count())"
   ]
  },
  {
   "cell_type": "code",
   "execution_count": 8,
   "id": "tamil-instrumentation",
   "metadata": {},
   "outputs": [
    {
     "data": {
      "application/vnd.jupyter.widget-view+json": {
       "model_id": "6c9be5266bc14c8fa9ca6f0c064b70da",
       "version_major": 2,
       "version_minor": 0
      },
      "text/plain": [
       "VBox()"
      ]
     },
     "metadata": {},
     "output_type": "display_data"
    },
    {
     "data": {
      "application/vnd.jupyter.widget-view+json": {
       "model_id": "",
       "version_major": 2,
       "version_minor": 0
      },
      "text/plain": [
       "FloatProgress(value=0.0, bar_style='info', description='Progress:', layout=Layout(height='25px', width='50%'),…"
      ]
     },
     "metadata": {},
     "output_type": "display_data"
    },
    {
     "name": "stdout",
     "output_type": "stream",
     "text": [
      "quality check: user final status shape: 22277\n",
      "10006"
     ]
    }
   ],
   "source": [
    "# %%local\n",
    "\n",
    "window = Window.partitionBy(df['userId']).orderBy(df['ts'])\n",
    "status_df = df.groupBy('status').count().orderBy('count', ascending=False)\n",
    "status_df.persist()\n",
    "status_df.count()\n",
    "\n",
    "window = Window.partitionBy(df['userId']).orderBy(df['ts'].desc())\n",
    "user_final_status =\\\n",
    "    df.select('userId', 'page', 'auth','date','ts','label', 'state', 'level', 'method', F.row_number().over(window).alias('rank')) \\\n",
    "        .filter(col('rank') <= 1)\n",
    "user_final_status.persist()\n",
    "print('quality check: user final status shape:', user_final_status.count())\n",
    "\n",
    "user_final_status.count()\n",
    "window = Window.partitionBy(df['userId']).orderBy(df['ts'])\n",
    "user_first_status =\\\n",
    "    df.select('userId', 'page', 'auth','date','ts','label', 'state', 'level', 'method',  F.row_number().over(window).alias('rank')) \\\n",
    "        .filter(col('rank') <= 1)\n",
    "user_first_status.persist()\n",
    "user_first_status.count()\n",
    "\n",
    "page_types = df.groupBy('page').count().orderBy('count', ascending=False)\n",
    "page_types.persist()\n",
    "page_types.count()\n",
    "\n",
    "location_activities = df.groupBy('state').count().orderBy('count', ascending=False)\n",
    "location_activities.persist()\n",
    "location_activities.count()\n",
    "\n",
    "level_count_activities = df.groupBy('level').count().orderBy('count', ascending=False)\n",
    "level_count_activities.persist()\n",
    "level_count_activities.count()\n",
    "\n",
    "method_count_activities = df.groupBy('method').count().orderBy('count', ascending=False)\n",
    "method_count_activities.persist()\n",
    "method_count_activities.count()\n",
    "\n",
    "window = Window.partitionBy(df['userId']).orderBy(df['ts'].desc())\n",
    "user_final_status_check =\\\n",
    "    df.select('userId', 'page', 'auth','date','ts','label',  'state', 'level', 'method', F.row_number().over(window).alias('rank')) \\\n",
    "        .filter(col('rank') <= 1)\n",
    "user_final_status_check.persist()\n",
    "user_final_status_check.count()\n",
    "\n",
    "ts_from_register_df = df.filter(col('page').isin(['CancellationConfirmation','Cancel'])).select('time_since_register')\n",
    "ts_from_register_df.persist()\n",
    "ts_from_register_df.count()"
   ]
  },
  {
   "cell_type": "code",
   "execution_count": 9,
   "id": "auburn-focus",
   "metadata": {},
   "outputs": [
    {
     "data": {
      "application/vnd.jupyter.widget-view+json": {
       "model_id": "",
       "version_major": 2,
       "version_minor": 0
      },
      "text/plain": [
       "FloatProgress(value=0.0, bar_style='info', description='Progress:', layout=Layout(height='25px', width='50%'),…"
      ]
     },
     "metadata": {},
     "output_type": "display_data"
    },
    {
     "data": {
      "application/vnd.jupyter.widget-view+json": {
       "model_id": "",
       "version_major": 2,
       "version_minor": 0
      },
      "text/plain": [
       "FloatProgress(value=0.0, bar_style='info', description='Progress:', layout=Layout(height='25px', width='50%'),…"
      ]
     },
     "metadata": {},
     "output_type": "display_data"
    }
   ],
   "source": [
    "%%spark -o level_count_activities"
   ]
  },
  {
   "cell_type": "code",
   "execution_count": 10,
   "id": "scientific-pizza",
   "metadata": {},
   "outputs": [
    {
     "data": {
      "application/vnd.jupyter.widget-view+json": {
       "model_id": "",
       "version_major": 2,
       "version_minor": 0
      },
      "text/plain": [
       "FloatProgress(value=0.0, bar_style='info', description='Progress:', layout=Layout(height='25px', width='50%'),…"
      ]
     },
     "metadata": {},
     "output_type": "display_data"
    },
    {
     "data": {
      "application/vnd.jupyter.widget-view+json": {
       "model_id": "",
       "version_major": 2,
       "version_minor": 0
      },
      "text/plain": [
       "FloatProgress(value=0.0, bar_style='info', description='Progress:', layout=Layout(height='25px', width='50%'),…"
      ]
     },
     "metadata": {},
     "output_type": "display_data"
    }
   ],
   "source": [
    "%%spark -o location_activities"
   ]
  },
  {
   "cell_type": "code",
   "execution_count": 11,
   "id": "noble-avenue",
   "metadata": {},
   "outputs": [
    {
     "data": {
      "application/vnd.jupyter.widget-view+json": {
       "model_id": "",
       "version_major": 2,
       "version_minor": 0
      },
      "text/plain": [
       "FloatProgress(value=0.0, bar_style='info', description='Progress:', layout=Layout(height='25px', width='50%'),…"
      ]
     },
     "metadata": {},
     "output_type": "display_data"
    },
    {
     "data": {
      "application/vnd.jupyter.widget-view+json": {
       "model_id": "",
       "version_major": 2,
       "version_minor": 0
      },
      "text/plain": [
       "FloatProgress(value=0.0, bar_style='info', description='Progress:', layout=Layout(height='25px', width='50%'),…"
      ]
     },
     "metadata": {},
     "output_type": "display_data"
    }
   ],
   "source": [
    "%%spark -o user_final_status -n 50000"
   ]
  },
  {
   "cell_type": "code",
   "execution_count": 12,
   "id": "upset-comparative",
   "metadata": {},
   "outputs": [
    {
     "data": {
      "application/vnd.jupyter.widget-view+json": {
       "model_id": "",
       "version_major": 2,
       "version_minor": 0
      },
      "text/plain": [
       "FloatProgress(value=0.0, bar_style='info', description='Progress:', layout=Layout(height='25px', width='50%'),…"
      ]
     },
     "metadata": {},
     "output_type": "display_data"
    },
    {
     "data": {
      "application/vnd.jupyter.widget-view+json": {
       "model_id": "",
       "version_major": 2,
       "version_minor": 0
      },
      "text/plain": [
       "FloatProgress(value=0.0, bar_style='info', description='Progress:', layout=Layout(height='25px', width='50%'),…"
      ]
     },
     "metadata": {},
     "output_type": "display_data"
    }
   ],
   "source": [
    "%%spark -o ts_from_register_df"
   ]
  },
  {
   "cell_type": "code",
   "execution_count": 13,
   "id": "valid-covering",
   "metadata": {},
   "outputs": [
    {
     "data": {
      "application/vnd.jupyter.widget-view+json": {
       "model_id": "",
       "version_major": 2,
       "version_minor": 0
      },
      "text/plain": [
       "FloatProgress(value=0.0, bar_style='info', description='Progress:', layout=Layout(height='25px', width='50%'),…"
      ]
     },
     "metadata": {},
     "output_type": "display_data"
    },
    {
     "data": {
      "application/vnd.jupyter.widget-view+json": {
       "model_id": "",
       "version_major": 2,
       "version_minor": 0
      },
      "text/plain": [
       "FloatProgress(value=0.0, bar_style='info', description='Progress:', layout=Layout(height='25px', width='50%'),…"
      ]
     },
     "metadata": {},
     "output_type": "display_data"
    }
   ],
   "source": [
    "%%spark -o user_first_status -n 50000"
   ]
  },
  {
   "cell_type": "code",
   "execution_count": 14,
   "id": "partial-sunglasses",
   "metadata": {},
   "outputs": [
    {
     "data": {
      "application/vnd.jupyter.widget-view+json": {
       "model_id": "",
       "version_major": 2,
       "version_minor": 0
      },
      "text/plain": [
       "FloatProgress(value=0.0, bar_style='info', description='Progress:', layout=Layout(height='25px', width='50%'),…"
      ]
     },
     "metadata": {},
     "output_type": "display_data"
    },
    {
     "data": {
      "application/vnd.jupyter.widget-view+json": {
       "model_id": "",
       "version_major": 2,
       "version_minor": 0
      },
      "text/plain": [
       "FloatProgress(value=0.0, bar_style='info', description='Progress:', layout=Layout(height='25px', width='50%'),…"
      ]
     },
     "metadata": {},
     "output_type": "display_data"
    }
   ],
   "source": [
    "%%spark -o method_count_activities"
   ]
  },
  {
   "cell_type": "code",
   "execution_count": 15,
   "id": "rocky-silence",
   "metadata": {},
   "outputs": [
    {
     "data": {
      "application/vnd.jupyter.widget-view+json": {
       "model_id": "",
       "version_major": 2,
       "version_minor": 0
      },
      "text/plain": [
       "FloatProgress(value=0.0, bar_style='info', description='Progress:', layout=Layout(height='25px', width='50%'),…"
      ]
     },
     "metadata": {},
     "output_type": "display_data"
    },
    {
     "data": {
      "application/vnd.jupyter.widget-view+json": {
       "model_id": "",
       "version_major": 2,
       "version_minor": 0
      },
      "text/plain": [
       "FloatProgress(value=0.0, bar_style='info', description='Progress:', layout=Layout(height='25px', width='50%'),…"
      ]
     },
     "metadata": {},
     "output_type": "display_data"
    }
   ],
   "source": [
    "%%spark -o status_df"
   ]
  },
  {
   "cell_type": "markdown",
   "id": "covered-richardson",
   "metadata": {},
   "source": [
    "## Data Analysis"
   ]
  },
  {
   "cell_type": "code",
   "execution_count": 16,
   "id": "noticed-illinois",
   "metadata": {},
   "outputs": [
    {
     "data": {
      "text/plain": [
       "<matplotlib.axes._subplots.AxesSubplot at 0x7f030f989050>"
      ]
     },
     "execution_count": 16,
     "metadata": {},
     "output_type": "execute_result"
    },
    {
     "data": {
      "image/png": "[encoded data removed]",
      "text/plain": [
       "<Figure size 1152x432 with 1 Axes>"
      ]
     },
     "metadata": {
      "needs_background": "light"
     },
     "output_type": "display_data"
    }
   ],
   "source": [
    "%%local\n",
    "fig, ax = plt.subplots(figsize=(16,6))\n",
    "location_activities.set_index('state').plot(ax=ax,kind='bar')"
   ]
  },
  {
   "cell_type": "code",
   "execution_count": 17,
   "id": "otherwise-seeker",
   "metadata": {},
   "outputs": [
    {
     "data": {
      "text/plain": [
       "<matplotlib.axes._subplots.AxesSubplot at 0x7f030dec1290>"
      ]
     },
     "execution_count": 17,
     "metadata": {},
     "output_type": "execute_result"
    },
    {
     "data": {
      "image/png": "[encoded data removed]",
      "text/plain": [
       "<Figure size 1152x432 with 1 Axes>"
      ]
     },
     "metadata": {
      "needs_background": "light"
     },
     "output_type": "display_data"
    }
   ],
   "source": [
    "%%local\n",
    "fig, ax = plt.subplots(figsize=(16,6))\n",
    "status_df.set_index('status').plot(ax=ax,kind='bar')"
   ]
  },
  {
   "cell_type": "code",
   "execution_count": 18,
   "id": "initial-wrist",
   "metadata": {},
   "outputs": [
    {
     "data": {
      "text/plain": [
       "<matplotlib.axes._subplots.AxesSubplot at 0x7f030def89d0>"
      ]
     },
     "execution_count": 18,
     "metadata": {},
     "output_type": "execute_result"
    },
    {
     "data": {
      "image/png": "[encoded data removed]",
      "text/plain": [
       "<Figure size 1152x432 with 1 Axes>"
      ]
     },
     "metadata": {
      "needs_background": "light"
     },
     "output_type": "display_data"
    }
   ],
   "source": [
    "%%local\n",
    "# print(type(level_count_activities))\n",
    "fig, ax = plt.subplots(figsize=(16,6))\n",
    "status_df.set_index('status').plot(ax=ax,kind='bar')"
   ]
  },
  {
   "cell_type": "code",
   "execution_count": 19,
   "id": "blank-people",
   "metadata": {},
   "outputs": [
    {
     "name": "stdout",
     "output_type": "stream",
     "text": [
      "(22277, 10)\n"
     ]
    },
    {
     "data": {
      "text/plain": [
       "<matplotlib.axes._subplots.AxesSubplot at 0x7f030deab310>"
      ]
     },
     "execution_count": 19,
     "metadata": {},
     "output_type": "execute_result"
    },
    {
     "data": {
      "image/png": "[encoded data removed]",
      "text/plain": [
       "<Figure size 1152x864 with 3 Axes>"
      ]
     },
     "metadata": {
      "needs_background": "light"
     },
     "output_type": "display_data"
    }
   ],
   "source": [
    "%%local\n",
    "# we first example the status of the users. \n",
    "fig, ax = plt.subplots(2,2, figsize=(16,12))\n",
    "print(user_final_status.shape)\n",
    "ax = plt.subplot(2, 1, 1)\n",
    "# df = df.withColumn('state', split(col('location'),',').getItem(1))    \n",
    "location = user_final_status['state'].value_counts()\n",
    "location.plot(ax=ax,kind='bar')\n",
    "    \n",
    "ax = plt.subplot(2, 2, 3)\n",
    "level_count = user_final_status['level'].value_counts()\n",
    "# level_count = df.groupBy('level').count().orderBy('count', ascending=False).toPandas()\n",
    "level_count.plot( ax=ax,kind='bar')\n",
    "    \n",
    "ax = plt.subplot(2, 2, 4)\n",
    "method_count = user_final_status['method'].value_counts()\n",
    "method_count.plot( ax=ax,kind='bar')\n",
    "# method_count = df.groupBy('method').count().orderBy('count', ascending=False).toPandas()\n",
    "# method_count.set_index('method').plot(ax=ax, kind='bar')\n"
   ]
  },
  {
   "cell_type": "code",
   "execution_count": 20,
   "id": "thousand-lighter",
   "metadata": {},
   "outputs": [
    {
     "data": {
      "text/plain": [
       "<matplotlib.axes._subplots.AxesSubplot at 0x7f030dc34d50>"
      ]
     },
     "execution_count": 20,
     "metadata": {},
     "output_type": "execute_result"
    },
    {
     "data": {
      "image/png": "[encoded data removed]",
      "text/plain": [
       "<Figure size 1152x864 with 3 Axes>"
      ]
     },
     "metadata": {
      "needs_background": "light"
     },
     "output_type": "display_data"
    }
   ],
   "source": [
    "%%local\n",
    "# we first example the status of the users. \n",
    "fig, ax = plt.subplots(2,2, figsize=(16,12))\n",
    "\n",
    "ax = plt.subplot(2, 1, 1)\n",
    "location_activities.set_index('state').plot(ax=ax,kind='bar')\n",
    "    \n",
    "ax = plt.subplot(2, 2, 3)\n",
    "level_count_activities.set_index('level').plot( ax=ax,kind='bar')\n",
    "    \n",
    "ax = plt.subplot(2, 2, 4)\n",
    "method_count_activities.set_index('method').plot(ax=ax, kind='bar')\n"
   ]
  },
  {
   "cell_type": "code",
   "execution_count": 21,
   "id": "flying-grass",
   "metadata": {},
   "outputs": [
    {
     "data": {
      "text/plain": [
       "<matplotlib.axes._subplots.AxesSubplot at 0x7f030dbb3450>"
      ]
     },
     "execution_count": 21,
     "metadata": {},
     "output_type": "execute_result"
    },
    {
     "data": {
      "image/png": "[encoded data removed]",
      "text/plain": [
       "<Figure size 1296x432 with 1 Axes>"
      ]
     },
     "metadata": {
      "needs_background": "light"
     },
     "output_type": "display_data"
    }
   ],
   "source": [
    "%%local\n",
    "# from pyspark.sql import functions as F\n",
    "location = user_final_status.groupby(['state'])['label'].mean()\n",
    "location.plot(figsize=(18,6), kind='bar')"
   ]
  },
  {
   "cell_type": "code",
   "execution_count": 22,
   "id": "annual-expansion",
   "metadata": {},
   "outputs": [
    {
     "data": {
      "text/plain": [
       "<matplotlib.axes._subplots.AxesSubplot at 0x7f030d9a8690>"
      ]
     },
     "execution_count": 22,
     "metadata": {},
     "output_type": "execute_result"
    },
    {
     "data": {
      "image/png": "[encoded data removed]",
      "text/plain": [
       "<Figure size 1152x864 with 3 Axes>"
      ]
     },
     "metadata": {
      "needs_background": "light"
     },
     "output_type": "display_data"
    }
   ],
   "source": [
    "%%local\n",
    "# we first example the status of the users. \n",
    "fig, ax = plt.subplots(2,2, figsize=(16,12))\n",
    "\n",
    "ax = plt.subplot(2, 1, 1)\n",
    "# df = df.withColumn('state', split(col('location'),',').getItem(1))    \n",
    "location = user_final_status.groupby(['state'])['label'].mean()\n",
    "location.plot(ax=ax,kind='bar')\n",
    "\n",
    "ax = plt.subplot(2, 2, 3)\n",
    "level_count = user_final_status.groupby(['level'])['label'].mean()\n",
    "# level_count = df.groupBy('level').count().orderBy('count', ascending=False).toPandas()\n",
    "level_count.plot( ax=ax,kind='bar')\n",
    "\n",
    "ax = plt.subplot(2, 2, 4)\n",
    "method_count = user_final_status.groupby(['method'])['label'].mean()\n",
    "method_count.plot( ax=ax,kind='bar')"
   ]
  },
  {
   "cell_type": "code",
   "execution_count": 23,
   "id": "million-candidate",
   "metadata": {},
   "outputs": [
    {
     "data": {
      "text/plain": [
       "array([[<matplotlib.axes._subplots.AxesSubplot object at 0x7f030dbc3610>]],\n",
       "      dtype=object)"
      ]
     },
     "execution_count": 23,
     "metadata": {},
     "output_type": "execute_result"
    },
    {
     "data": {
      "image/png": "[encoded data removed]",
      "text/plain": [
       "<Figure size 864x432 with 1 Axes>"
      ]
     },
     "metadata": {
      "needs_background": "light"
     },
     "output_type": "display_data"
    }
   ],
   "source": [
    "%%local\n",
    "ts_from_register_df.hist(figsize=(12,6),bins=50)"
   ]
  },
  {
   "cell_type": "code",
   "execution_count": 16,
   "id": "conceptual-papua",
   "metadata": {},
   "outputs": [
    {
     "data": {
      "application/vnd.jupyter.widget-view+json": {
       "model_id": "7e5141d457ba4a94811e60b09a41490e",
       "version_major": 2,
       "version_minor": 0
      },
      "text/plain": [
       "VBox()"
      ]
     },
     "metadata": {},
     "output_type": "display_data"
    },
    {
     "data": {
      "application/vnd.jupyter.widget-view+json": {
       "model_id": "",
       "version_major": 2,
       "version_minor": 0
      },
      "text/plain": [
       "FloatProgress(value=0.0, bar_style='info', description='Progress:', layout=Layout(height='25px', width='50%'),…"
      ]
     },
     "metadata": {},
     "output_type": "display_data"
    },
    {
     "name": "stdout",
     "output_type": "stream",
     "text": [
      "['itemInSession', 'length', 'month', 'time_since_register', 'session_count', 'gender_index', 'state_index']"
     ]
    }
   ],
   "source": [
    "def generate_training_data(features_df):\n",
    "    \"\"\"\n",
    "    Transforms features with feature pipeline\n",
    "    :param features_df: Spark DataFrame of features\n",
    "    :return Spark Dataframe with label and assembled features\n",
    "    \"\"\"\n",
    "    num_cols = []\n",
    "    \n",
    "    for field in features_df.schema.fields :\n",
    "        if field.dataType!=StringType():\n",
    "            num_cols.append(field.name)\n",
    "\n",
    "#     num_cols.remove('label')\n",
    "#     num_cols.remove('interaction_time')\n",
    "    num_cols = [item for item in num_cols if item not in ['label','ts', 'interaction_time', 'status', 'sessionId',\n",
    "                                                          'sessionStart' ,'registration', 'date','userId']]\n",
    "#     print(num_cols)\n",
    "    indexer_gender = StringIndexer(inputCol='gender', outputCol='gender_index').setHandleInvalid(\"skip\")\n",
    "    indexer_location = StringIndexer(inputCol='state', outputCol='state_index').setHandleInvalid(\"skip\")\n",
    "#     indexer_valid_level = StringIndexer(inputCol='valid_level', outputCol='valid_level_index')\n",
    "    print(num_cols+['gender_index', 'state_index'])\n",
    "    assembler = VectorAssembler(inputCols=num_cols+['gender_index', 'state_index'], \n",
    "                                outputCol='features').setHandleInvalid(\"skip\")\n",
    "\n",
    "    process_pipeline = Pipeline(stages=[indexer_gender, indexer_location,  assembler])\n",
    "#     process_pipeline = build_pipeline(num_cols)\n",
    "    model_df = process_pipeline.fit(features_df).transform(features_df)\n",
    "#     return model_df.select(\"label\", \"features\")\n",
    "    return model_df\n",
    "\n",
    "model_df = generate_training_data(df)"
   ]
  },
  {
   "cell_type": "code",
   "execution_count": 17,
   "id": "romance-doctrine",
   "metadata": {},
   "outputs": [
    {
     "data": {
      "application/vnd.jupyter.widget-view+json": {
       "model_id": "556e3b4c41094854b586e798b8f5ded1",
       "version_major": 2,
       "version_minor": 0
      },
      "text/plain": [
       "VBox()"
      ]
     },
     "metadata": {},
     "output_type": "display_data"
    },
    {
     "data": {
      "application/vnd.jupyter.widget-view+json": {
       "model_id": "",
       "version_major": 2,
       "version_minor": 0
      },
      "text/plain": [
       "FloatProgress(value=0.0, bar_style='info', description='Progress:', layout=Layout(height='25px', width='50%'),…"
      ]
     },
     "metadata": {},
     "output_type": "display_data"
    },
    {
     "name": "stdout",
     "output_type": "stream",
     "text": [
      "+-------------+------+-----+-------------------+-------------+------------+-----------+\n",
      "|itemInSession|length|month|time_since_register|session_count|gender_index|state_index|\n",
      "+-------------+------+-----+-------------------+-------------+------------+-----------+\n",
      "|            0|     0|    0|                  0|            0|           0|          0|\n",
      "+-------------+------+-----+-------------------+-------------+------------+-----------+"
     ]
    }
   ],
   "source": [
    "num_cols_refer = ['itemInSession', 'length', 'month', 'time_since_register', 'session_count', 'gender_index', 'state_index']\n",
    "model_df.select([F.count(F.when(F.isnan(c), c)).alias(c) for c in num_cols_refer]).show()"
   ]
  },
  {
   "cell_type": "code",
   "execution_count": 18,
   "id": "hazardous-heather",
   "metadata": {},
   "outputs": [
    {
     "data": {
      "application/vnd.jupyter.widget-view+json": {
       "model_id": "624f0bbcd9974843a3f4634bfb624f79",
       "version_major": 2,
       "version_minor": 0
      },
      "text/plain": [
       "VBox()"
      ]
     },
     "metadata": {},
     "output_type": "display_data"
    },
    {
     "data": {
      "application/vnd.jupyter.widget-view+json": {
       "model_id": "",
       "version_major": 2,
       "version_minor": 0
      },
      "text/plain": [
       "FloatProgress(value=0.0, bar_style='info', description='Progress:', layout=Layout(height='25px', width='50%'),…"
      ]
     },
     "metadata": {},
     "output_type": "display_data"
    },
    {
     "name": "stdout",
     "output_type": "stream",
     "text": [
      "+-------+------------------+------------------+------------------+-------------------+------------------+-------------------+------------------+\n",
      "|summary|     itemInSession|            length|             month|time_since_register|     session_count|       gender_index|       state_index|\n",
      "+-------+------------------+------------------+------------------+-------------------+------------------+-------------------+------------------+\n",
      "|  count|          20850272|          20850272|          20850272|           20850272|          20850272|           20850272|          20850272|\n",
      "|   mean|108.80280070207237|248.72543296748236|10.467762914555744|  65.46200908074485|14.777150820862193|0.47801692946739494|  15.8365029482589|\n",
      "| stddev| 118.5943588886103| 97.28710387078065|0.4989597961604559| 41.189882292546656|14.243521438584956|0.49951652282685605|18.055886300274974|\n",
      "|    min|                 0|             0.522|                10|                -22|                 1|                0.0|               0.0|\n",
      "|    25%|                27|         199.88853|                10|                 37|                 5|                0.0|               2.0|\n",
      "|    50%|                69|         234.08281|                10|                 58|                10|                0.0|               9.0|\n",
      "|    75%|               149|         276.92363|                11|                 84|                20|                1.0|              24.0|\n",
      "|    max|              1424|        3024.66567|                12|                410|               147|                1.0|              99.0|\n",
      "+-------+------------------+------------------+------------------+-------------------+------------------+-------------------+------------------+"
     ]
    }
   ],
   "source": [
    "num_cols_refer = ['itemInSession', 'length', 'month', 'time_since_register', 'session_count', 'gender_index', 'state_index']\n",
    "model_df.select(num_cols_refer).summary().show()"
   ]
  },
  {
   "cell_type": "markdown",
   "id": "northern-pulse",
   "metadata": {},
   "source": [
    "## Model Fitting"
   ]
  },
  {
   "cell_type": "code",
   "execution_count": 19,
   "id": "roman-blade",
   "metadata": {},
   "outputs": [
    {
     "data": {
      "application/vnd.jupyter.widget-view+json": {
       "model_id": "a2cfe926a7d34e169f64e9d3a9e68413",
       "version_major": 2,
       "version_minor": 0
      },
      "text/plain": [
       "VBox()"
      ]
     },
     "metadata": {},
     "output_type": "display_data"
    },
    {
     "data": {
      "application/vnd.jupyter.widget-view+json": {
       "model_id": "",
       "version_major": 2,
       "version_minor": 0
      },
      "text/plain": [
       "FloatProgress(value=0.0, bar_style='info', description='Progress:', layout=Layout(height='25px', width='50%'),…"
      ]
     },
     "metadata": {},
     "output_type": "display_data"
    },
    {
     "name": "stdout",
     "output_type": "stream",
     "text": [
      "training size: 18766587 testing size: 2083685"
     ]
    }
   ],
   "source": [
    "train, test = model_df.randomSplit([0.9, 0.1], seed=42)\n",
    "print('training size:', train.count(), 'testing size:', test.count())"
   ]
  },
  {
   "cell_type": "code",
   "execution_count": 20,
   "id": "earlier-details",
   "metadata": {},
   "outputs": [
    {
     "data": {
      "application/vnd.jupyter.widget-view+json": {
       "model_id": "c93f26d38add4cb3a82bb8dbbb741547",
       "version_major": 2,
       "version_minor": 0
      },
      "text/plain": [
       "VBox()"
      ]
     },
     "metadata": {},
     "output_type": "display_data"
    },
    {
     "data": {
      "application/vnd.jupyter.widget-view+json": {
       "model_id": "",
       "version_major": 2,
       "version_minor": 0
      },
      "text/plain": [
       "FloatProgress(value=0.0, bar_style='info', description='Progress:', layout=Layout(height='25px', width='50%'),…"
      ]
     },
     "metadata": {},
     "output_type": "display_data"
    },
    {
     "name": "stdout",
     "output_type": "stream",
     "text": [
      "+-------+------------------+------------------+-------------------+-------------------+------------------+------------------+------------------+\n",
      "|summary|     itemInSession|            length|              month|time_since_register|     session_count|      gender_index|       state_index|\n",
      "+-------+------------------+------------------+-------------------+-------------------+------------------+------------------+------------------+\n",
      "|  count|          18766587|          18766587|           18766587|           18766587|          18766587|          18766587|          18766587|\n",
      "|   mean|108.81494583964574|248.73089264521656| 10.467700440149294|  65.45734677275095|14.775978125377833|0.4780509636621726|15.837787073376742|\n",
      "| stddev|118.60467085517071| 97.29279219806591|0.49895576785102164| 41.187104719767625|14.244899901513412|0.4995180207957654|18.055979211667168|\n",
      "|    min|                 0|             0.522|                 10|                -22|                 1|               0.0|               0.0|\n",
      "|    25%|                27|         199.88853|                 10|                 37|                 5|               0.0|               2.0|\n",
      "|    50%|                69|         234.08281|                 10|                 58|                10|               0.0|               9.0|\n",
      "|    75%|               149|         276.92363|                 11|                 84|                20|               1.0|              24.0|\n",
      "|    max|              1424|        3024.66567|                 12|                410|               147|               1.0|              99.0|\n",
      "+-------+------------------+------------------+-------------------+-------------------+------------------+------------------+------------------+"
     ]
    }
   ],
   "source": [
    "train.select(['itemInSession', 'length', 'month', 'time_since_register', 'session_count', 'gender_index', 'state_index','features']).summary().show()"
   ]
  },
  {
   "cell_type": "code",
   "execution_count": 21,
   "id": "flying-prime",
   "metadata": {},
   "outputs": [
    {
     "data": {
      "application/vnd.jupyter.widget-view+json": {
       "model_id": "953760c4bdc94e1a8b8293bbfc5825ce",
       "version_major": 2,
       "version_minor": 0
      },
      "text/plain": [
       "VBox()"
      ]
     },
     "metadata": {},
     "output_type": "display_data"
    },
    {
     "data": {
      "application/vnd.jupyter.widget-view+json": {
       "model_id": "",
       "version_major": 2,
       "version_minor": 0
      },
      "text/plain": [
       "FloatProgress(value=0.0, bar_style='info', description='Progress:', layout=Layout(height='25px', width='50%'),…"
      ]
     },
     "metadata": {},
     "output_type": "display_data"
    },
    {
     "name": "stdout",
     "output_type": "stream",
     "text": [
      "root\n",
      " |-- itemInSession: long (nullable = true)\n",
      " |-- length: double (nullable = true)\n",
      " |-- month: integer (nullable = true)\n",
      " |-- time_since_register: integer (nullable = true)\n",
      " |-- session_count: long (nullable = false)\n",
      " |-- gender_index: double (nullable = false)\n",
      " |-- state_index: double (nullable = false)\n",
      " |-- features: vector (nullable = true)"
     ]
    }
   ],
   "source": [
    "train.select(['itemInSession', 'length', 'month', 'time_since_register', 'session_count', 'gender_index', 'state_index','features']).printSchema()"
   ]
  },
  {
   "cell_type": "code",
   "execution_count": 22,
   "id": "spare-church",
   "metadata": {},
   "outputs": [
    {
     "data": {
      "application/vnd.jupyter.widget-view+json": {
       "model_id": "ee05f1bfbb8e4c99a53cb487c63358b2",
       "version_major": 2,
       "version_minor": 0
      },
      "text/plain": [
       "VBox()"
      ]
     },
     "metadata": {},
     "output_type": "display_data"
    },
    {
     "data": {
      "application/vnd.jupyter.widget-view+json": {
       "model_id": "",
       "version_major": 2,
       "version_minor": 0
      },
      "text/plain": [
       "FloatProgress(value=0.0, bar_style='info', description='Progress:', layout=Layout(height='25px', width='50%'),…"
      ]
     },
     "metadata": {},
     "output_type": "display_data"
    },
    {
     "name": "stdout",
     "output_type": "stream",
     "text": [
      "[0.5863832937913819, 0.6781666752052863, 0.6099203349840403, 0.6733599411817255]"
     ]
    }
   ],
   "source": [
    "# train, test = model_df.randomSplit([0.9, 0.1], seed=42)\n",
    "lr =  LogisticRegression(maxIter=10, regParam=0.0, elasticNetParam=0)\n",
    "\n",
    "pipeline = Pipeline(stages=[lr])\n",
    "\n",
    "paramsGrid = ParamGridBuilder()\\\n",
    "                .addGrid(lr.regParam,[0.0,0.1])\\\n",
    "                .addGrid(lr.maxIter,[10,50])\\\n",
    "                .build()\n",
    "\n",
    "crossval = CrossValidator(estimator=pipeline,\n",
    "                          estimatorParamMaps=paramsGrid,\n",
    "                          evaluator=BinaryClassificationEvaluator(),\n",
    "                          numFolds=3)\n",
    "\n",
    "cvModel = crossval.fit(train)\n",
    "cvModel.avgMetrics"
   ]
  },
  {
   "cell_type": "code",
   "execution_count": 33,
   "id": "regional-array",
   "metadata": {},
   "outputs": [
    {
     "data": {
      "application/vnd.jupyter.widget-view+json": {
       "model_id": "7ead1ccb3ef24df591a7aadc39922e35",
       "version_major": 2,
       "version_minor": 0
      },
      "text/plain": [
       "VBox()"
      ]
     },
     "metadata": {},
     "output_type": "display_data"
    },
    {
     "name": "stderr",
     "output_type": "stream",
     "text": [
      "Exception in thread cell_monitor-23:\n",
      "Traceback (most recent call last):\n",
      "  File \"/opt/conda/lib/python3.7/threading.py\", line 926, in _bootstrap_inner\n",
      "    self.run()\n",
      "  File \"/opt/conda/lib/python3.7/threading.py\", line 870, in run\n",
      "    self._target(*self._args, **self._kwargs)\n",
      "  File \"/opt/conda/lib/python3.7/site-packages/awseditorssparkmonitoringwidget-1.0-py3.7.egg/awseditorssparkmonitoringwidget/cellmonitor.py\", line 178, in cell_monitor\n",
      "    job_binned_stages[job_id][stage_id] = all_stages[stage_id]\n",
      "KeyError: 604\n",
      "\n"
     ]
    },
    {
     "data": {
      "application/vnd.jupyter.widget-view+json": {
       "model_id": "",
       "version_major": 2,
       "version_minor": 0
      },
      "text/plain": [
       "FloatProgress(value=0.0, bar_style='info', description='Progress:', layout=Layout(height='25px', width='50%'),…"
      ]
     },
     "metadata": {},
     "output_type": "display_data"
    },
    {
     "name": "stderr",
     "output_type": "stream",
     "text": [
      "Exception in thread cell_monitor-24:\n",
      "Traceback (most recent call last):\n",
      "  File \"/opt/conda/lib/python3.7/threading.py\", line 926, in _bootstrap_inner\n",
      "    self.run()\n",
      "  File \"/opt/conda/lib/python3.7/threading.py\", line 870, in run\n",
      "    self._target(*self._args, **self._kwargs)\n",
      "  File \"/opt/conda/lib/python3.7/site-packages/awseditorssparkmonitoringwidget-1.0-py3.7.egg/awseditorssparkmonitoringwidget/cellmonitor.py\", line 178, in cell_monitor\n",
      "    job_binned_stages[job_id][stage_id] = all_stages[stage_id]\n",
      "KeyError: 628\n",
      "\n"
     ]
    },
    {
     "name": "stdout",
     "output_type": "stream",
     "text": [
      "Test Area Under ROC: 0.6782670971304879"
     ]
    }
   ],
   "source": [
    "predictions = cvModel.transform(test)\n",
    "evaluator = BinaryClassificationEvaluator()\n",
    "print(\"Test Area Under ROC: \" + str(evaluator.evaluate(predictions, {evaluator.metricName: \"areaUnderROC\"})))"
   ]
  },
  {
   "cell_type": "code",
   "execution_count": 34,
   "id": "established-purse",
   "metadata": {},
   "outputs": [
    {
     "data": {
      "application/vnd.jupyter.widget-view+json": {
       "model_id": "266c9fb82bea4791836ddea67689a734",
       "version_major": 2,
       "version_minor": 0
      },
      "text/plain": [
       "VBox()"
      ]
     },
     "metadata": {},
     "output_type": "display_data"
    },
    {
     "data": {
      "application/vnd.jupyter.widget-view+json": {
       "model_id": "",
       "version_major": 2,
       "version_minor": 0
      },
      "text/plain": [
       "FloatProgress(value=0.0, bar_style='info', description='Progress:', layout=Layout(height='25px', width='50%'),…"
      ]
     },
     "metadata": {},
     "output_type": "display_data"
    },
    {
     "name": "stderr",
     "output_type": "stream",
     "text": [
      "Exception in thread cell_monitor-25:\n",
      "Traceback (most recent call last):\n",
      "  File \"/opt/conda/lib/python3.7/threading.py\", line 926, in _bootstrap_inner\n",
      "    self.run()\n",
      "  File \"/opt/conda/lib/python3.7/threading.py\", line 870, in run\n",
      "    self._target(*self._args, **self._kwargs)\n",
      "  File \"/opt/conda/lib/python3.7/site-packages/awseditorssparkmonitoringwidget-1.0-py3.7.egg/awseditorssparkmonitoringwidget/cellmonitor.py\", line 178, in cell_monitor\n",
      "    job_binned_stages[job_id][stage_id] = all_stages[stage_id]\n",
      "KeyError: 655\n",
      "\n"
     ]
    },
    {
     "name": "stdout",
     "output_type": "stream",
     "text": [
      "Train Area Under ROC: 0.6781691247427435"
     ]
    }
   ],
   "source": [
    "predictions = cvModel.transform(train)\n",
    "evaluator = BinaryClassificationEvaluator()\n",
    "print(\"Train Area Under ROC: \" + str(evaluator.evaluate(predictions, {evaluator.metricName: \"areaUnderROC\"})))"
   ]
  },
  {
   "cell_type": "code",
   "execution_count": 29,
   "id": "dedicated-vaccine",
   "metadata": {},
   "outputs": [
    {
     "data": {
      "application/vnd.jupyter.widget-view+json": {
       "model_id": "046acab49d554deda5ccdfc061af7770",
       "version_major": 2,
       "version_minor": 0
      },
      "text/plain": [
       "VBox()"
      ]
     },
     "metadata": {},
     "output_type": "display_data"
    },
    {
     "data": {
      "application/vnd.jupyter.widget-view+json": {
       "model_id": "",
       "version_major": 2,
       "version_minor": 0
      },
      "text/plain": [
       "FloatProgress(value=0.0, bar_style='info', description='Progress:', layout=Layout(height='25px', width='50%'),…"
      ]
     },
     "metadata": {},
     "output_type": "display_data"
    },
    {
     "name": "stderr",
     "output_type": "stream",
     "text": [
      "Exception in thread cell_monitor-20:\n",
      "Traceback (most recent call last):\n",
      "  File \"/opt/conda/lib/python3.7/threading.py\", line 926, in _bootstrap_inner\n",
      "    self.run()\n",
      "  File \"/opt/conda/lib/python3.7/threading.py\", line 870, in run\n",
      "    self._target(*self._args, **self._kwargs)\n",
      "  File \"/opt/conda/lib/python3.7/site-packages/awseditorssparkmonitoringwidget-1.0-py3.7.egg/awseditorssparkmonitoringwidget/cellmonitor.py\", line 178, in cell_monitor\n",
      "    job_binned_stages[job_id][stage_id] = all_stages[stage_id]\n",
      "KeyError: 538\n",
      "\n"
     ]
    }
   ],
   "source": [
    "from pyspark.ml.classification import RandomForestClassifier\n",
    "rf = RandomForestClassifier(labelCol=\"label\", featuresCol=\"features\", numTrees=100, maxBins=128)\n",
    "pipeline = Pipeline(stages=[rf])\n",
    "\n",
    "paramsGrid = ParamGridBuilder()\\\n",
    "                .addGrid(rf.numTrees,[100])\\\n",
    "                .build()\n",
    "rfModel = rf.fit(train)\n",
    "# crossval2 = CrossValidator(estimator=pipeline,\n",
    "#                           estimatorParamMaps=paramsGrid,\n",
    "#                           evaluator=BinaryClassificationEvaluator(),\n",
    "#                           numFolds=3)\n",
    "\n",
    "# cvModel2 = crossval2.fit(train)\n",
    "# cvModel2.avgMetrics"
   ]
  },
  {
   "cell_type": "code",
   "execution_count": 30,
   "id": "equal-delaware",
   "metadata": {},
   "outputs": [
    {
     "data": {
      "application/vnd.jupyter.widget-view+json": {
       "model_id": "94d4f91912d2465caf21f472dd057ba7",
       "version_major": 2,
       "version_minor": 0
      },
      "text/plain": [
       "VBox()"
      ]
     },
     "metadata": {},
     "output_type": "display_data"
    },
    {
     "data": {
      "application/vnd.jupyter.widget-view+json": {
       "model_id": "",
       "version_major": 2,
       "version_minor": 0
      },
      "text/plain": [
       "FloatProgress(value=0.0, bar_style='info', description='Progress:', layout=Layout(height='25px', width='50%'),…"
      ]
     },
     "metadata": {},
     "output_type": "display_data"
    },
    {
     "name": "stderr",
     "output_type": "stream",
     "text": [
      "Exception in thread cell_monitor-21:\n",
      "Traceback (most recent call last):\n",
      "  File \"/opt/conda/lib/python3.7/threading.py\", line 926, in _bootstrap_inner\n",
      "    self.run()\n",
      "  File \"/opt/conda/lib/python3.7/threading.py\", line 870, in run\n",
      "    self._target(*self._args, **self._kwargs)\n",
      "  File \"/opt/conda/lib/python3.7/site-packages/awseditorssparkmonitoringwidget-1.0-py3.7.egg/awseditorssparkmonitoringwidget/cellmonitor.py\", line 178, in cell_monitor\n",
      "    job_binned_stages[job_id][stage_id] = all_stages[stage_id]\n",
      "KeyError: 571\n",
      "\n"
     ]
    },
    {
     "name": "stdout",
     "output_type": "stream",
     "text": [
      "Test Area Under ROC: 0.6807443165646874"
     ]
    }
   ],
   "source": [
    "predictions = rfModel.transform(test)\n",
    "evaluator = BinaryClassificationEvaluator()\n",
    "print(\"Test Area Under ROC: \" + str(evaluator.evaluate(predictions, {evaluator.metricName: \"areaUnderROC\"})))"
   ]
  },
  {
   "cell_type": "code",
   "execution_count": 31,
   "id": "copyrighted-piece",
   "metadata": {},
   "outputs": [
    {
     "data": {
      "application/vnd.jupyter.widget-view+json": {
       "model_id": "cf7f7fca50ba4cfa9ae158dd98d6bebd",
       "version_major": 2,
       "version_minor": 0
      },
      "text/plain": [
       "VBox()"
      ]
     },
     "metadata": {},
     "output_type": "display_data"
    },
    {
     "data": {
      "application/vnd.jupyter.widget-view+json": {
       "model_id": "",
       "version_major": 2,
       "version_minor": 0
      },
      "text/plain": [
       "FloatProgress(value=0.0, bar_style='info', description='Progress:', layout=Layout(height='25px', width='50%'),…"
      ]
     },
     "metadata": {},
     "output_type": "display_data"
    },
    {
     "name": "stderr",
     "output_type": "stream",
     "text": [
      "Exception in thread cell_monitor-22:\n",
      "Traceback (most recent call last):\n",
      "  File \"/opt/conda/lib/python3.7/threading.py\", line 926, in _bootstrap_inner\n",
      "    self.run()\n",
      "  File \"/opt/conda/lib/python3.7/threading.py\", line 870, in run\n",
      "    self._target(*self._args, **self._kwargs)\n",
      "  File \"/opt/conda/lib/python3.7/site-packages/awseditorssparkmonitoringwidget-1.0-py3.7.egg/awseditorssparkmonitoringwidget/cellmonitor.py\", line 178, in cell_monitor\n",
      "    job_binned_stages[job_id][stage_id] = all_stages[stage_id]\n",
      "KeyError: 586\n",
      "\n"
     ]
    },
    {
     "name": "stdout",
     "output_type": "stream",
     "text": [
      "Train Area Under ROC: 0.6805640527774823"
     ]
    }
   ],
   "source": [
    "predictions = rfModel.transform(train)\n",
    "evaluator = BinaryClassificationEvaluator()\n",
    "print(\"Train Area Under ROC: \" + str(evaluator.evaluate(predictions, {evaluator.metricName: \"areaUnderROC\"})))"
   ]
  },
  {
   "cell_type": "code",
   "execution_count": 32,
   "id": "rental-institution",
   "metadata": {},
   "outputs": [
    {
     "data": {
      "application/vnd.jupyter.widget-view+json": {
       "model_id": "f1ecbadef9844d1b802c25a8ddda490c",
       "version_major": 2,
       "version_minor": 0
      },
      "text/plain": [
       "VBox()"
      ]
     },
     "metadata": {},
     "output_type": "display_data"
    },
    {
     "data": {
      "application/vnd.jupyter.widget-view+json": {
       "model_id": "",
       "version_major": 2,
       "version_minor": 0
      },
      "text/plain": [
       "FloatProgress(value=0.0, bar_style='info', description='Progress:', layout=Layout(height='25px', width='50%'),…"
      ]
     },
     "metadata": {},
     "output_type": "display_data"
    },
    {
     "name": "stdout",
     "output_type": "stream",
     "text": [
      "1"
     ]
    }
   ],
   "source": [
    "print(1)"
   ]
  }
 ],
 "metadata": {
  "kernelspec": {
   "display_name": "PySpark",
   "language": "",
   "name": "pysparkkernel"
  },
  "language_info": {
   "codemirror_mode": {
    "name": "python",
    "version": 2
   },
   "mimetype": "text/x-python",
   "name": "pyspark",
   "pygments_lexer": "python2"
  }
 },
 "nbformat": 4,
 "nbformat_minor": 5
}
